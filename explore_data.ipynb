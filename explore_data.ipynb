{
  "metadata": {
    "kernelspec": {
      "language": "python",
      "display_name": "Python 3",
      "name": "python3"
    },
    "language_info": {
      "pygments_lexer": "ipython3",
      "nbconvert_exporter": "python",
      "version": "3.6.4",
      "file_extension": ".py",
      "codemirror_mode": {
        "name": "ipython",
        "version": 3
      },
      "name": "python",
      "mimetype": "text/x-python"
    },
    "colab": {
      "provenance": [],
      "include_colab_link": true
    }
  },
  "nbformat_minor": 0,
  "nbformat": 4,
  "cells": [
    {
      "cell_type": "markdown",
      "metadata": {
        "id": "view-in-github",
        "colab_type": "text"
      },
      "source": [
        "<a href=\"https://colab.research.google.com/github/Afitr06/machine_learning/blob/main/explore_data.ipynb\" target=\"_parent\"><img src=\"https://colab.research.google.com/assets/colab-badge.svg\" alt=\"Open In Colab\"/></a>"
      ]
    },
    {
      "cell_type": "code",
      "source": [
        "# This Python 3 environment comes with many helpful analytics libraries installed\n",
        "# It is defined by the kaggle/python Docker image: https://github.com/kaggle/docker-python\n",
        "# For example, here's several helpful packages to load\n",
        "\n",
        "import numpy as np # linear algebra\n",
        "import pandas as pd # data processing, CSV file I/O (e.g. pd.read_csv)\n",
        "\n",
        "# Input data files are available in the read-only \"../input/\" directory\n",
        "# For example, running this (by clicking run or pressing Shift+Enter) will list all files under the input directory\n",
        "\n",
        "import os\n",
        "for dirname, _, filenames in os.walk('/kaggle/input'):\n",
        "    for filename in filenames:\n",
        "        print(os.path.join(dirname, filename))\n",
        "\n",
        "# You can write up to 20GB to the current directory (/kaggle/working/) that gets preserved as output when you create a version using \"Save & Run All\" \n",
        "# You can also write temporary files to /kaggle/temp/, but they won't be saved outside of the current session"
      ],
      "metadata": {
        "_uuid": "8f2839f25d086af736a60e9eeb907d3b93b6e0e5",
        "_cell_guid": "b1076dfc-b9ad-4769-8c92-a6c4dae69d19",
        "execution": {
          "iopub.status.busy": "2023-01-09T02:08:24.737389Z",
          "iopub.execute_input": "2023-01-09T02:08:24.738267Z",
          "iopub.status.idle": "2023-01-09T02:08:24.760891Z",
          "shell.execute_reply.started": "2023-01-09T02:08:24.738143Z",
          "shell.execute_reply": "2023-01-09T02:08:24.759518Z"
        },
        "trusted": true,
        "id": "hh_VbmaW2OuE"
      },
      "execution_count": 11,
      "outputs": []
    },
    {
      "cell_type": "code",
      "source": [
        "import pandas as pd\n",
        "import numpy as np\n",
        "\n",
        "#visual\n",
        "import matplotlib.pyplot as plt\n",
        "import seaborn as sns\n",
        "import plotly.express as px\n",
        "\n",
        "#add\n",
        "%matplotlib inline\n",
        "import warnings\n",
        "warnings.filterwarnings('ignore')\n",
        "pd.set_option('display.max_columns', None)"
      ],
      "metadata": {
        "execution": {
          "iopub.status.busy": "2023-01-09T02:08:24.762523Z",
          "iopub.execute_input": "2023-01-09T02:08:24.764401Z",
          "iopub.status.idle": "2023-01-09T02:08:25.937004Z",
          "shell.execute_reply.started": "2023-01-09T02:08:24.764352Z",
          "shell.execute_reply": "2023-01-09T02:08:25.9357Z"
        },
        "trusted": true,
        "id": "w8qQu52F2OuK"
      },
      "execution_count": 12,
      "outputs": []
    },
    {
      "cell_type": "code",
      "source": [
        "df = pd.read_csv('/content/Data_Tanaman_Padi_Sumatera_version_1.csv')\n",
        "print ('Berikut Tampilan Data :\\n')\n",
        "df.head()"
      ],
      "metadata": {
        "execution": {
          "iopub.status.busy": "2023-01-09T02:08:25.938314Z",
          "iopub.execute_input": "2023-01-09T02:08:25.938723Z",
          "iopub.status.idle": "2023-01-09T02:08:25.965415Z",
          "shell.execute_reply.started": "2023-01-09T02:08:25.938694Z",
          "shell.execute_reply": "2023-01-09T02:08:25.964528Z"
        },
        "trusted": true,
        "colab": {
          "base_uri": "https://localhost:8080/",
          "height": 241
        },
        "id": "o5zdYD7Q2OuN",
        "outputId": "e713ea13-b2bc-4583-b255-dcc7452a4db7"
      },
      "execution_count": 13,
      "outputs": [
        {
          "output_type": "stream",
          "name": "stdout",
          "text": [
            "Berikut Tampilan Data :\n",
            "\n"
          ]
        },
        {
          "output_type": "execute_result",
          "data": {
            "text/plain": [
              "  Provinsi  Tahun   Produksi  Luas Panen  Curah hujan  Kelembapan  \\\n",
              "0     Aceh   1993  1329536.0    323589.0       1627.0       82.00   \n",
              "1     Aceh   1994  1299699.0    329041.0       1521.0       82.12   \n",
              "2     Aceh   1995  1382905.0    339253.0       1476.0       82.72   \n",
              "3     Aceh   1996  1419128.0    348223.0       1557.0       83.00   \n",
              "4     Aceh   1997  1368074.0    337561.0       1339.0       82.46   \n",
              "\n",
              "   Suhu rata-rata  \n",
              "0           26.06  \n",
              "1           26.92  \n",
              "2           26.27  \n",
              "3           26.08  \n",
              "4           26.31  "
            ],
            "text/html": [
              "\n",
              "  <div id=\"df-4b7bdc58-7cba-45f4-ae15-d5ba64cdb22f\">\n",
              "    <div class=\"colab-df-container\">\n",
              "      <div>\n",
              "<style scoped>\n",
              "    .dataframe tbody tr th:only-of-type {\n",
              "        vertical-align: middle;\n",
              "    }\n",
              "\n",
              "    .dataframe tbody tr th {\n",
              "        vertical-align: top;\n",
              "    }\n",
              "\n",
              "    .dataframe thead th {\n",
              "        text-align: right;\n",
              "    }\n",
              "</style>\n",
              "<table border=\"1\" class=\"dataframe\">\n",
              "  <thead>\n",
              "    <tr style=\"text-align: right;\">\n",
              "      <th></th>\n",
              "      <th>Provinsi</th>\n",
              "      <th>Tahun</th>\n",
              "      <th>Produksi</th>\n",
              "      <th>Luas Panen</th>\n",
              "      <th>Curah hujan</th>\n",
              "      <th>Kelembapan</th>\n",
              "      <th>Suhu rata-rata</th>\n",
              "    </tr>\n",
              "  </thead>\n",
              "  <tbody>\n",
              "    <tr>\n",
              "      <th>0</th>\n",
              "      <td>Aceh</td>\n",
              "      <td>1993</td>\n",
              "      <td>1329536.0</td>\n",
              "      <td>323589.0</td>\n",
              "      <td>1627.0</td>\n",
              "      <td>82.00</td>\n",
              "      <td>26.06</td>\n",
              "    </tr>\n",
              "    <tr>\n",
              "      <th>1</th>\n",
              "      <td>Aceh</td>\n",
              "      <td>1994</td>\n",
              "      <td>1299699.0</td>\n",
              "      <td>329041.0</td>\n",
              "      <td>1521.0</td>\n",
              "      <td>82.12</td>\n",
              "      <td>26.92</td>\n",
              "    </tr>\n",
              "    <tr>\n",
              "      <th>2</th>\n",
              "      <td>Aceh</td>\n",
              "      <td>1995</td>\n",
              "      <td>1382905.0</td>\n",
              "      <td>339253.0</td>\n",
              "      <td>1476.0</td>\n",
              "      <td>82.72</td>\n",
              "      <td>26.27</td>\n",
              "    </tr>\n",
              "    <tr>\n",
              "      <th>3</th>\n",
              "      <td>Aceh</td>\n",
              "      <td>1996</td>\n",
              "      <td>1419128.0</td>\n",
              "      <td>348223.0</td>\n",
              "      <td>1557.0</td>\n",
              "      <td>83.00</td>\n",
              "      <td>26.08</td>\n",
              "    </tr>\n",
              "    <tr>\n",
              "      <th>4</th>\n",
              "      <td>Aceh</td>\n",
              "      <td>1997</td>\n",
              "      <td>1368074.0</td>\n",
              "      <td>337561.0</td>\n",
              "      <td>1339.0</td>\n",
              "      <td>82.46</td>\n",
              "      <td>26.31</td>\n",
              "    </tr>\n",
              "  </tbody>\n",
              "</table>\n",
              "</div>\n",
              "      <button class=\"colab-df-convert\" onclick=\"convertToInteractive('df-4b7bdc58-7cba-45f4-ae15-d5ba64cdb22f')\"\n",
              "              title=\"Convert this dataframe to an interactive table.\"\n",
              "              style=\"display:none;\">\n",
              "        \n",
              "  <svg xmlns=\"http://www.w3.org/2000/svg\" height=\"24px\"viewBox=\"0 0 24 24\"\n",
              "       width=\"24px\">\n",
              "    <path d=\"M0 0h24v24H0V0z\" fill=\"none\"/>\n",
              "    <path d=\"M18.56 5.44l.94 2.06.94-2.06 2.06-.94-2.06-.94-.94-2.06-.94 2.06-2.06.94zm-11 1L8.5 8.5l.94-2.06 2.06-.94-2.06-.94L8.5 2.5l-.94 2.06-2.06.94zm10 10l.94 2.06.94-2.06 2.06-.94-2.06-.94-.94-2.06-.94 2.06-2.06.94z\"/><path d=\"M17.41 7.96l-1.37-1.37c-.4-.4-.92-.59-1.43-.59-.52 0-1.04.2-1.43.59L10.3 9.45l-7.72 7.72c-.78.78-.78 2.05 0 2.83L4 21.41c.39.39.9.59 1.41.59.51 0 1.02-.2 1.41-.59l7.78-7.78 2.81-2.81c.8-.78.8-2.07 0-2.86zM5.41 20L4 18.59l7.72-7.72 1.47 1.35L5.41 20z\"/>\n",
              "  </svg>\n",
              "      </button>\n",
              "      \n",
              "  <style>\n",
              "    .colab-df-container {\n",
              "      display:flex;\n",
              "      flex-wrap:wrap;\n",
              "      gap: 12px;\n",
              "    }\n",
              "\n",
              "    .colab-df-convert {\n",
              "      background-color: #E8F0FE;\n",
              "      border: none;\n",
              "      border-radius: 50%;\n",
              "      cursor: pointer;\n",
              "      display: none;\n",
              "      fill: #1967D2;\n",
              "      height: 32px;\n",
              "      padding: 0 0 0 0;\n",
              "      width: 32px;\n",
              "    }\n",
              "\n",
              "    .colab-df-convert:hover {\n",
              "      background-color: #E2EBFA;\n",
              "      box-shadow: 0px 1px 2px rgba(60, 64, 67, 0.3), 0px 1px 3px 1px rgba(60, 64, 67, 0.15);\n",
              "      fill: #174EA6;\n",
              "    }\n",
              "\n",
              "    [theme=dark] .colab-df-convert {\n",
              "      background-color: #3B4455;\n",
              "      fill: #D2E3FC;\n",
              "    }\n",
              "\n",
              "    [theme=dark] .colab-df-convert:hover {\n",
              "      background-color: #434B5C;\n",
              "      box-shadow: 0px 1px 3px 1px rgba(0, 0, 0, 0.15);\n",
              "      filter: drop-shadow(0px 1px 2px rgba(0, 0, 0, 0.3));\n",
              "      fill: #FFFFFF;\n",
              "    }\n",
              "  </style>\n",
              "\n",
              "      <script>\n",
              "        const buttonEl =\n",
              "          document.querySelector('#df-4b7bdc58-7cba-45f4-ae15-d5ba64cdb22f button.colab-df-convert');\n",
              "        buttonEl.style.display =\n",
              "          google.colab.kernel.accessAllowed ? 'block' : 'none';\n",
              "\n",
              "        async function convertToInteractive(key) {\n",
              "          const element = document.querySelector('#df-4b7bdc58-7cba-45f4-ae15-d5ba64cdb22f');\n",
              "          const dataTable =\n",
              "            await google.colab.kernel.invokeFunction('convertToInteractive',\n",
              "                                                     [key], {});\n",
              "          if (!dataTable) return;\n",
              "\n",
              "          const docLinkHtml = 'Like what you see? Visit the ' +\n",
              "            '<a target=\"_blank\" href=https://colab.research.google.com/notebooks/data_table.ipynb>data table notebook</a>'\n",
              "            + ' to learn more about interactive tables.';\n",
              "          element.innerHTML = '';\n",
              "          dataTable['output_type'] = 'display_data';\n",
              "          await google.colab.output.renderOutput(dataTable, element);\n",
              "          const docLink = document.createElement('div');\n",
              "          docLink.innerHTML = docLinkHtml;\n",
              "          element.appendChild(docLink);\n",
              "        }\n",
              "      </script>\n",
              "    </div>\n",
              "  </div>\n",
              "  "
            ]
          },
          "metadata": {},
          "execution_count": 13
        }
      ]
    },
    {
      "cell_type": "code",
      "source": [
        "print(f'Dataset memiliki {df.shape[0]} baris dan {df.shape[1]} kolom' )"
      ],
      "metadata": {
        "execution": {
          "iopub.status.busy": "2023-01-09T02:08:25.967522Z",
          "iopub.execute_input": "2023-01-09T02:08:25.968614Z",
          "iopub.status.idle": "2023-01-09T02:08:25.974052Z",
          "shell.execute_reply.started": "2023-01-09T02:08:25.968574Z",
          "shell.execute_reply": "2023-01-09T02:08:25.973228Z"
        },
        "trusted": true,
        "colab": {
          "base_uri": "https://localhost:8080/"
        },
        "id": "zVZJsjfz2OuQ",
        "outputId": "27172c46-457b-438c-9b43-962d5e9bbe3f"
      },
      "execution_count": 14,
      "outputs": [
        {
          "output_type": "stream",
          "name": "stdout",
          "text": [
            "Dataset memiliki 224 baris dan 7 kolom\n"
          ]
        }
      ]
    },
    {
      "cell_type": "code",
      "source": [
        "df.info()"
      ],
      "metadata": {
        "execution": {
          "iopub.status.busy": "2023-01-09T02:08:25.975181Z",
          "iopub.execute_input": "2023-01-09T02:08:25.976272Z",
          "iopub.status.idle": "2023-01-09T02:08:25.996212Z",
          "shell.execute_reply.started": "2023-01-09T02:08:25.976238Z",
          "shell.execute_reply": "2023-01-09T02:08:25.994889Z"
        },
        "trusted": true,
        "colab": {
          "base_uri": "https://localhost:8080/"
        },
        "id": "M4zaL9jH2OuS",
        "outputId": "daf51403-1c47-4d95-c0dd-516bb4d0bf12"
      },
      "execution_count": 15,
      "outputs": [
        {
          "output_type": "stream",
          "name": "stdout",
          "text": [
            "<class 'pandas.core.frame.DataFrame'>\n",
            "RangeIndex: 224 entries, 0 to 223\n",
            "Data columns (total 7 columns):\n",
            " #   Column          Non-Null Count  Dtype  \n",
            "---  ------          --------------  -----  \n",
            " 0   Provinsi        224 non-null    object \n",
            " 1   Tahun           224 non-null    int64  \n",
            " 2   Produksi        224 non-null    float64\n",
            " 3   Luas Panen      224 non-null    float64\n",
            " 4   Curah hujan     224 non-null    float64\n",
            " 5   Kelembapan      224 non-null    float64\n",
            " 6   Suhu rata-rata  224 non-null    float64\n",
            "dtypes: float64(5), int64(1), object(1)\n",
            "memory usage: 12.4+ KB\n"
          ]
        }
      ]
    },
    {
      "cell_type": "code",
      "source": [
        "cek = pd.DataFrame({\n",
        "    'Data Kosong': df.isnull().sum(),\n",
        "    'Data Duplikat': df.duplicated().sum(),\n",
        "    'Data NaNN': df.isna().sum(),\n",
        "    'Type Data': df.dtypes\n",
        "})\n",
        "\n",
        "cek"
      ],
      "metadata": {
        "execution": {
          "iopub.status.busy": "2023-01-09T02:08:25.998227Z",
          "iopub.execute_input": "2023-01-09T02:08:25.998685Z",
          "iopub.status.idle": "2023-01-09T02:08:26.019418Z",
          "shell.execute_reply.started": "2023-01-09T02:08:25.998641Z",
          "shell.execute_reply": "2023-01-09T02:08:26.018397Z"
        },
        "trusted": true,
        "colab": {
          "base_uri": "https://localhost:8080/",
          "height": 269
        },
        "id": "cQdiA0zX2OuT",
        "outputId": "cbe8d18c-faa7-4bd2-846f-3a85aeec1b71"
      },
      "execution_count": 16,
      "outputs": [
        {
          "output_type": "execute_result",
          "data": {
            "text/plain": [
              "                Data Kosong  Data Duplikat  Data NaNN Type Data\n",
              "Provinsi                  0              0          0    object\n",
              "Tahun                     0              0          0     int64\n",
              "Produksi                  0              0          0   float64\n",
              "Luas Panen                0              0          0   float64\n",
              "Curah hujan               0              0          0   float64\n",
              "Kelembapan                0              0          0   float64\n",
              "Suhu rata-rata            0              0          0   float64"
            ],
            "text/html": [
              "\n",
              "  <div id=\"df-a0dea9ee-688c-48be-b4bb-5e390b5f4db3\">\n",
              "    <div class=\"colab-df-container\">\n",
              "      <div>\n",
              "<style scoped>\n",
              "    .dataframe tbody tr th:only-of-type {\n",
              "        vertical-align: middle;\n",
              "    }\n",
              "\n",
              "    .dataframe tbody tr th {\n",
              "        vertical-align: top;\n",
              "    }\n",
              "\n",
              "    .dataframe thead th {\n",
              "        text-align: right;\n",
              "    }\n",
              "</style>\n",
              "<table border=\"1\" class=\"dataframe\">\n",
              "  <thead>\n",
              "    <tr style=\"text-align: right;\">\n",
              "      <th></th>\n",
              "      <th>Data Kosong</th>\n",
              "      <th>Data Duplikat</th>\n",
              "      <th>Data NaNN</th>\n",
              "      <th>Type Data</th>\n",
              "    </tr>\n",
              "  </thead>\n",
              "  <tbody>\n",
              "    <tr>\n",
              "      <th>Provinsi</th>\n",
              "      <td>0</td>\n",
              "      <td>0</td>\n",
              "      <td>0</td>\n",
              "      <td>object</td>\n",
              "    </tr>\n",
              "    <tr>\n",
              "      <th>Tahun</th>\n",
              "      <td>0</td>\n",
              "      <td>0</td>\n",
              "      <td>0</td>\n",
              "      <td>int64</td>\n",
              "    </tr>\n",
              "    <tr>\n",
              "      <th>Produksi</th>\n",
              "      <td>0</td>\n",
              "      <td>0</td>\n",
              "      <td>0</td>\n",
              "      <td>float64</td>\n",
              "    </tr>\n",
              "    <tr>\n",
              "      <th>Luas Panen</th>\n",
              "      <td>0</td>\n",
              "      <td>0</td>\n",
              "      <td>0</td>\n",
              "      <td>float64</td>\n",
              "    </tr>\n",
              "    <tr>\n",
              "      <th>Curah hujan</th>\n",
              "      <td>0</td>\n",
              "      <td>0</td>\n",
              "      <td>0</td>\n",
              "      <td>float64</td>\n",
              "    </tr>\n",
              "    <tr>\n",
              "      <th>Kelembapan</th>\n",
              "      <td>0</td>\n",
              "      <td>0</td>\n",
              "      <td>0</td>\n",
              "      <td>float64</td>\n",
              "    </tr>\n",
              "    <tr>\n",
              "      <th>Suhu rata-rata</th>\n",
              "      <td>0</td>\n",
              "      <td>0</td>\n",
              "      <td>0</td>\n",
              "      <td>float64</td>\n",
              "    </tr>\n",
              "  </tbody>\n",
              "</table>\n",
              "</div>\n",
              "      <button class=\"colab-df-convert\" onclick=\"convertToInteractive('df-a0dea9ee-688c-48be-b4bb-5e390b5f4db3')\"\n",
              "              title=\"Convert this dataframe to an interactive table.\"\n",
              "              style=\"display:none;\">\n",
              "        \n",
              "  <svg xmlns=\"http://www.w3.org/2000/svg\" height=\"24px\"viewBox=\"0 0 24 24\"\n",
              "       width=\"24px\">\n",
              "    <path d=\"M0 0h24v24H0V0z\" fill=\"none\"/>\n",
              "    <path d=\"M18.56 5.44l.94 2.06.94-2.06 2.06-.94-2.06-.94-.94-2.06-.94 2.06-2.06.94zm-11 1L8.5 8.5l.94-2.06 2.06-.94-2.06-.94L8.5 2.5l-.94 2.06-2.06.94zm10 10l.94 2.06.94-2.06 2.06-.94-2.06-.94-.94-2.06-.94 2.06-2.06.94z\"/><path d=\"M17.41 7.96l-1.37-1.37c-.4-.4-.92-.59-1.43-.59-.52 0-1.04.2-1.43.59L10.3 9.45l-7.72 7.72c-.78.78-.78 2.05 0 2.83L4 21.41c.39.39.9.59 1.41.59.51 0 1.02-.2 1.41-.59l7.78-7.78 2.81-2.81c.8-.78.8-2.07 0-2.86zM5.41 20L4 18.59l7.72-7.72 1.47 1.35L5.41 20z\"/>\n",
              "  </svg>\n",
              "      </button>\n",
              "      \n",
              "  <style>\n",
              "    .colab-df-container {\n",
              "      display:flex;\n",
              "      flex-wrap:wrap;\n",
              "      gap: 12px;\n",
              "    }\n",
              "\n",
              "    .colab-df-convert {\n",
              "      background-color: #E8F0FE;\n",
              "      border: none;\n",
              "      border-radius: 50%;\n",
              "      cursor: pointer;\n",
              "      display: none;\n",
              "      fill: #1967D2;\n",
              "      height: 32px;\n",
              "      padding: 0 0 0 0;\n",
              "      width: 32px;\n",
              "    }\n",
              "\n",
              "    .colab-df-convert:hover {\n",
              "      background-color: #E2EBFA;\n",
              "      box-shadow: 0px 1px 2px rgba(60, 64, 67, 0.3), 0px 1px 3px 1px rgba(60, 64, 67, 0.15);\n",
              "      fill: #174EA6;\n",
              "    }\n",
              "\n",
              "    [theme=dark] .colab-df-convert {\n",
              "      background-color: #3B4455;\n",
              "      fill: #D2E3FC;\n",
              "    }\n",
              "\n",
              "    [theme=dark] .colab-df-convert:hover {\n",
              "      background-color: #434B5C;\n",
              "      box-shadow: 0px 1px 3px 1px rgba(0, 0, 0, 0.15);\n",
              "      filter: drop-shadow(0px 1px 2px rgba(0, 0, 0, 0.3));\n",
              "      fill: #FFFFFF;\n",
              "    }\n",
              "  </style>\n",
              "\n",
              "      <script>\n",
              "        const buttonEl =\n",
              "          document.querySelector('#df-a0dea9ee-688c-48be-b4bb-5e390b5f4db3 button.colab-df-convert');\n",
              "        buttonEl.style.display =\n",
              "          google.colab.kernel.accessAllowed ? 'block' : 'none';\n",
              "\n",
              "        async function convertToInteractive(key) {\n",
              "          const element = document.querySelector('#df-a0dea9ee-688c-48be-b4bb-5e390b5f4db3');\n",
              "          const dataTable =\n",
              "            await google.colab.kernel.invokeFunction('convertToInteractive',\n",
              "                                                     [key], {});\n",
              "          if (!dataTable) return;\n",
              "\n",
              "          const docLinkHtml = 'Like what you see? Visit the ' +\n",
              "            '<a target=\"_blank\" href=https://colab.research.google.com/notebooks/data_table.ipynb>data table notebook</a>'\n",
              "            + ' to learn more about interactive tables.';\n",
              "          element.innerHTML = '';\n",
              "          dataTable['output_type'] = 'display_data';\n",
              "          await google.colab.output.renderOutput(dataTable, element);\n",
              "          const docLink = document.createElement('div');\n",
              "          docLink.innerHTML = docLinkHtml;\n",
              "          element.appendChild(docLink);\n",
              "        }\n",
              "      </script>\n",
              "    </div>\n",
              "  </div>\n",
              "  "
            ]
          },
          "metadata": {},
          "execution_count": 16
        }
      ]
    },
    {
      "cell_type": "markdown",
      "source": [
        "# Analisa data"
      ],
      "metadata": {
        "id": "VVn9ddde2OuU"
      }
    },
    {
      "cell_type": "code",
      "source": [
        "df.corr()"
      ],
      "metadata": {
        "execution": {
          "iopub.status.busy": "2023-01-09T02:08:26.020695Z",
          "iopub.execute_input": "2023-01-09T02:08:26.021018Z",
          "iopub.status.idle": "2023-01-09T02:08:26.035875Z",
          "shell.execute_reply.started": "2023-01-09T02:08:26.02099Z",
          "shell.execute_reply": "2023-01-09T02:08:26.034725Z"
        },
        "trusted": true,
        "colab": {
          "base_uri": "https://localhost:8080/",
          "height": 238
        },
        "id": "CIG-gaMu2OuX",
        "outputId": "efcc9ca1-f204-4c91-e1b6-c092b380010e"
      },
      "execution_count": 17,
      "outputs": [
        {
          "output_type": "execute_result",
          "data": {
            "text/plain": [
              "                   Tahun  Produksi  Luas Panen  Curah hujan  Kelembapan  \\\n",
              "Tahun           1.000000  0.182527   -0.045951    -0.047645   -0.033474   \n",
              "Produksi        0.182527  1.000000    0.905622    -0.042129   -0.052316   \n",
              "Luas Panen     -0.045951  0.905622    1.000000    -0.092975   -0.061121   \n",
              "Curah hujan    -0.047645 -0.042129   -0.092975     1.000000    0.056466   \n",
              "Kelembapan     -0.033474 -0.052316   -0.061121     0.056466    1.000000   \n",
              "Suhu rata-rata  0.004923  0.041160    0.115726    -0.228699   -0.407799   \n",
              "\n",
              "                Suhu rata-rata  \n",
              "Tahun                 0.004923  \n",
              "Produksi              0.041160  \n",
              "Luas Panen            0.115726  \n",
              "Curah hujan          -0.228699  \n",
              "Kelembapan           -0.407799  \n",
              "Suhu rata-rata        1.000000  "
            ],
            "text/html": [
              "\n",
              "  <div id=\"df-a3ea92c5-6d34-427f-a7d0-cbd29558487d\">\n",
              "    <div class=\"colab-df-container\">\n",
              "      <div>\n",
              "<style scoped>\n",
              "    .dataframe tbody tr th:only-of-type {\n",
              "        vertical-align: middle;\n",
              "    }\n",
              "\n",
              "    .dataframe tbody tr th {\n",
              "        vertical-align: top;\n",
              "    }\n",
              "\n",
              "    .dataframe thead th {\n",
              "        text-align: right;\n",
              "    }\n",
              "</style>\n",
              "<table border=\"1\" class=\"dataframe\">\n",
              "  <thead>\n",
              "    <tr style=\"text-align: right;\">\n",
              "      <th></th>\n",
              "      <th>Tahun</th>\n",
              "      <th>Produksi</th>\n",
              "      <th>Luas Panen</th>\n",
              "      <th>Curah hujan</th>\n",
              "      <th>Kelembapan</th>\n",
              "      <th>Suhu rata-rata</th>\n",
              "    </tr>\n",
              "  </thead>\n",
              "  <tbody>\n",
              "    <tr>\n",
              "      <th>Tahun</th>\n",
              "      <td>1.000000</td>\n",
              "      <td>0.182527</td>\n",
              "      <td>-0.045951</td>\n",
              "      <td>-0.047645</td>\n",
              "      <td>-0.033474</td>\n",
              "      <td>0.004923</td>\n",
              "    </tr>\n",
              "    <tr>\n",
              "      <th>Produksi</th>\n",
              "      <td>0.182527</td>\n",
              "      <td>1.000000</td>\n",
              "      <td>0.905622</td>\n",
              "      <td>-0.042129</td>\n",
              "      <td>-0.052316</td>\n",
              "      <td>0.041160</td>\n",
              "    </tr>\n",
              "    <tr>\n",
              "      <th>Luas Panen</th>\n",
              "      <td>-0.045951</td>\n",
              "      <td>0.905622</td>\n",
              "      <td>1.000000</td>\n",
              "      <td>-0.092975</td>\n",
              "      <td>-0.061121</td>\n",
              "      <td>0.115726</td>\n",
              "    </tr>\n",
              "    <tr>\n",
              "      <th>Curah hujan</th>\n",
              "      <td>-0.047645</td>\n",
              "      <td>-0.042129</td>\n",
              "      <td>-0.092975</td>\n",
              "      <td>1.000000</td>\n",
              "      <td>0.056466</td>\n",
              "      <td>-0.228699</td>\n",
              "    </tr>\n",
              "    <tr>\n",
              "      <th>Kelembapan</th>\n",
              "      <td>-0.033474</td>\n",
              "      <td>-0.052316</td>\n",
              "      <td>-0.061121</td>\n",
              "      <td>0.056466</td>\n",
              "      <td>1.000000</td>\n",
              "      <td>-0.407799</td>\n",
              "    </tr>\n",
              "    <tr>\n",
              "      <th>Suhu rata-rata</th>\n",
              "      <td>0.004923</td>\n",
              "      <td>0.041160</td>\n",
              "      <td>0.115726</td>\n",
              "      <td>-0.228699</td>\n",
              "      <td>-0.407799</td>\n",
              "      <td>1.000000</td>\n",
              "    </tr>\n",
              "  </tbody>\n",
              "</table>\n",
              "</div>\n",
              "      <button class=\"colab-df-convert\" onclick=\"convertToInteractive('df-a3ea92c5-6d34-427f-a7d0-cbd29558487d')\"\n",
              "              title=\"Convert this dataframe to an interactive table.\"\n",
              "              style=\"display:none;\">\n",
              "        \n",
              "  <svg xmlns=\"http://www.w3.org/2000/svg\" height=\"24px\"viewBox=\"0 0 24 24\"\n",
              "       width=\"24px\">\n",
              "    <path d=\"M0 0h24v24H0V0z\" fill=\"none\"/>\n",
              "    <path d=\"M18.56 5.44l.94 2.06.94-2.06 2.06-.94-2.06-.94-.94-2.06-.94 2.06-2.06.94zm-11 1L8.5 8.5l.94-2.06 2.06-.94-2.06-.94L8.5 2.5l-.94 2.06-2.06.94zm10 10l.94 2.06.94-2.06 2.06-.94-2.06-.94-.94-2.06-.94 2.06-2.06.94z\"/><path d=\"M17.41 7.96l-1.37-1.37c-.4-.4-.92-.59-1.43-.59-.52 0-1.04.2-1.43.59L10.3 9.45l-7.72 7.72c-.78.78-.78 2.05 0 2.83L4 21.41c.39.39.9.59 1.41.59.51 0 1.02-.2 1.41-.59l7.78-7.78 2.81-2.81c.8-.78.8-2.07 0-2.86zM5.41 20L4 18.59l7.72-7.72 1.47 1.35L5.41 20z\"/>\n",
              "  </svg>\n",
              "      </button>\n",
              "      \n",
              "  <style>\n",
              "    .colab-df-container {\n",
              "      display:flex;\n",
              "      flex-wrap:wrap;\n",
              "      gap: 12px;\n",
              "    }\n",
              "\n",
              "    .colab-df-convert {\n",
              "      background-color: #E8F0FE;\n",
              "      border: none;\n",
              "      border-radius: 50%;\n",
              "      cursor: pointer;\n",
              "      display: none;\n",
              "      fill: #1967D2;\n",
              "      height: 32px;\n",
              "      padding: 0 0 0 0;\n",
              "      width: 32px;\n",
              "    }\n",
              "\n",
              "    .colab-df-convert:hover {\n",
              "      background-color: #E2EBFA;\n",
              "      box-shadow: 0px 1px 2px rgba(60, 64, 67, 0.3), 0px 1px 3px 1px rgba(60, 64, 67, 0.15);\n",
              "      fill: #174EA6;\n",
              "    }\n",
              "\n",
              "    [theme=dark] .colab-df-convert {\n",
              "      background-color: #3B4455;\n",
              "      fill: #D2E3FC;\n",
              "    }\n",
              "\n",
              "    [theme=dark] .colab-df-convert:hover {\n",
              "      background-color: #434B5C;\n",
              "      box-shadow: 0px 1px 3px 1px rgba(0, 0, 0, 0.15);\n",
              "      filter: drop-shadow(0px 1px 2px rgba(0, 0, 0, 0.3));\n",
              "      fill: #FFFFFF;\n",
              "    }\n",
              "  </style>\n",
              "\n",
              "      <script>\n",
              "        const buttonEl =\n",
              "          document.querySelector('#df-a3ea92c5-6d34-427f-a7d0-cbd29558487d button.colab-df-convert');\n",
              "        buttonEl.style.display =\n",
              "          google.colab.kernel.accessAllowed ? 'block' : 'none';\n",
              "\n",
              "        async function convertToInteractive(key) {\n",
              "          const element = document.querySelector('#df-a3ea92c5-6d34-427f-a7d0-cbd29558487d');\n",
              "          const dataTable =\n",
              "            await google.colab.kernel.invokeFunction('convertToInteractive',\n",
              "                                                     [key], {});\n",
              "          if (!dataTable) return;\n",
              "\n",
              "          const docLinkHtml = 'Like what you see? Visit the ' +\n",
              "            '<a target=\"_blank\" href=https://colab.research.google.com/notebooks/data_table.ipynb>data table notebook</a>'\n",
              "            + ' to learn more about interactive tables.';\n",
              "          element.innerHTML = '';\n",
              "          dataTable['output_type'] = 'display_data';\n",
              "          await google.colab.output.renderOutput(dataTable, element);\n",
              "          const docLink = document.createElement('div');\n",
              "          docLink.innerHTML = docLinkHtml;\n",
              "          element.appendChild(docLink);\n",
              "        }\n",
              "      </script>\n",
              "    </div>\n",
              "  </div>\n",
              "  "
            ]
          },
          "metadata": {},
          "execution_count": 17
        }
      ]
    },
    {
      "cell_type": "code",
      "source": [
        "#cek korelasi kuat antara Produksi dan Luas Panen\n",
        "fig = px.scatter(df, x=\"Luas Panen\", y=\"Produksi\", color=\"Provinsi\")\n",
        "fig.show()"
      ],
      "metadata": {
        "execution": {
          "iopub.status.busy": "2023-01-09T02:08:26.11034Z",
          "iopub.execute_input": "2023-01-09T02:08:26.110778Z",
          "iopub.status.idle": "2023-01-09T02:08:26.592755Z",
          "shell.execute_reply.started": "2023-01-09T02:08:26.110742Z",
          "shell.execute_reply": "2023-01-09T02:08:26.591514Z"
        },
        "trusted": true,
        "colab": {
          "base_uri": "https://localhost:8080/",
          "height": 542
        },
        "id": "-6CIPCfV2OuZ",
        "outputId": "04860c35-21b3-4ea2-f305-e3ea5f9fc12d"
      },
      "execution_count": 32,
      "outputs": [
        {
          "output_type": "display_data",
          "data": {
            "text/html": [
              "<html>\n",
              "<head><meta charset=\"utf-8\" /></head>\n",
              "<body>\n",
              "    <div>            <script src=\"https://cdnjs.cloudflare.com/ajax/libs/mathjax/2.7.5/MathJax.js?config=TeX-AMS-MML_SVG\"></script><script type=\"text/javascript\">if (window.MathJax) {MathJax.Hub.Config({SVG: {font: \"STIX-Web\"}});}</script>                <script type=\"text/javascript\">window.PlotlyConfig = {MathJaxConfig: 'local'};</script>\n",
              "        <script src=\"https://cdn.plot.ly/plotly-2.8.3.min.js\"></script>                <div id=\"dbdb3906-4601-41e7-9287-f0087439b99b\" class=\"plotly-graph-div\" style=\"height:525px; width:100%;\"></div>            <script type=\"text/javascript\">                                    window.PLOTLYENV=window.PLOTLYENV || {};                                    if (document.getElementById(\"dbdb3906-4601-41e7-9287-f0087439b99b\")) {                    Plotly.newPlot(                        \"dbdb3906-4601-41e7-9287-f0087439b99b\",                        [{\"hovertemplate\":\"Provinsi=Aceh<br>Luas Panen=%{x}<br>Produksi=%{y}<extra></extra>\",\"legendgroup\":\"Aceh\",\"marker\":{\"color\":\"#636efa\",\"symbol\":\"circle\"},\"mode\":\"markers\",\"name\":\"Aceh\",\"orientation\":\"v\",\"showlegend\":true,\"x\":[323589.0,329041.0,339253.0,348223.0,337561.0,365892.0,359817.0,336765.0,295212.0,315131.0,367636.0,370966.0,337893.0,320789.0,360717.0,329109.0,359375.0,352281.0,380686.0,387803.0,419183.0,376137.0,461060.0,293067.0,294483.0,329515.78,310012.46,317869.41],\"xaxis\":\"x\",\"y\":[1329536.0,1299699.0,1382905.0,1419128.0,1368074.0,1404580.0,1478712.0,1486909.0,1547499.0,1314165.0,1246614.0,1350748.0,1411650.0,1552078.0,1556858.0,1402287.0,1533369.0,1788738.0,1772962.0,1582393.0,2331046.0,1820062.0,1956940.0,2180754.0,2478922.0,1751996.94,1714437.6,1861567.1],\"yaxis\":\"y\",\"type\":\"scatter\"},{\"hovertemplate\":\"Provinsi=Sumatera Utara<br>Luas Panen=%{x}<br>Produksi=%{y}<extra></extra>\",\"legendgroup\":\"Sumatera Utara\",\"marker\":{\"color\":\"#EF553B\",\"symbol\":\"circle\"},\"mode\":\"markers\",\"name\":\"Sumatera Utara\",\"orientation\":\"v\",\"showlegend\":true,\"x\":[754569.0,792534.0,795183.0,790051.0,797545.0,823749.0,838626.0,847610.0,801948.0,765161.0,825188.0,826091.0,822073.0,705023.0,750232.0,748540.0,768407.0,754674.0,757547.0,765099.0,742968.0,717318.0,781769.0,423029.0,415675.0,408176.45,413141.24,388591.22],\"xaxis\":\"x\",\"y\":[2918152.0,3079960.0,3134533.0,3136760.0,3212208.0,3321049.0,3451430.0,3514253.0,3291515.0,3153305.0,3403075.0,3418782.0,3447394.0,3007636.0,3265834.0,3340794.0,3527899.0,3582302.0,3607403.0,3715514.0,3727249.0,3631039.0,4044829.0,4387035.9,4669777.5,2108284.72,2078901.59,2076280.01],\"yaxis\":\"y\",\"type\":\"scatter\"},{\"hovertemplate\":\"Provinsi=Sumatera Barat<br>Luas Panen=%{x}<br>Produksi=%{y}<extra></extra>\",\"legendgroup\":\"Sumatera Barat\",\"marker\":{\"color\":\"#00cc96\",\"symbol\":\"circle\"},\"mode\":\"markers\",\"name\":\"Sumatera Barat\",\"orientation\":\"v\",\"showlegend\":true,\"x\":[394412.0,382740.0,400627.0,430343.0,395728.0,412810.0,432254.0,396919.0,376710.0,424253.0,411860.0,422582.0,426950.0,417846.0,423655.0,421902.0,439542.0,460497.0,461709.0,476422.0,487820.0,503198.0,507545.0,222482.0,222021.0,313050.82,311671.23,295664.47],\"xaxis\":\"x\",\"y\":[1806424.0,1747543.0,1829192.0,1971180.0,1787719.0,1807622.0,1897678.0,1759059.0,1668955.0,1875834.0,1823739.0,1875188.0,1907390.0,1889489.0,1938120.0,1965634.0,2105790.0,2211248.0,2279602.0,2368390.0,2430384.0,2519020.0,2550609.0,2487929.0,2810425.0,1483076.48,1482996.01,1450839.74],\"yaxis\":\"y\",\"type\":\"scatter\"},{\"hovertemplate\":\"Provinsi=Riau<br>Luas Panen=%{x}<br>Produksi=%{y}<extra></extra>\",\"legendgroup\":\"Riau\",\"marker\":{\"color\":\"#ab63fa\",\"symbol\":\"circle\"},\"mode\":\"markers\",\"name\":\"Riau\",\"orientation\":\"v\",\"showlegend\":true,\"x\":[146133.0,146177.0,152204.0,150354.0,137953.0,126280.0,155683.0,141640.0,132507.0,129025.0,132887.0,145239.0,134418.0,136177.0,147167.0,147796.0,149423.0,156088.0,145242.0,144015.0,118518.0,106037.0,107546.0,72151.0,70016.0,71448.08,63142.04,64733.13],\"xaxis\":\"x\",\"y\":[436297.0,445361.0,458756.0,461905.0,416135.0,370124.0,461630.0,431351.0,413391.0,396644.0,414237.0,454186.0,424095.0,42938.0,490087.0,494260.0,531429.0,574864.0,535788.0,512152.0,434144.0,385475.0,393917.0,325826.0,337421.0,266375.53,230873.97,269344.05],\"yaxis\":\"y\",\"type\":\"scatter\"},{\"hovertemplate\":\"Provinsi=Jambi<br>Luas Panen=%{x}<br>Produksi=%{y}<extra></extra>\",\"legendgroup\":\"Jambi\",\"marker\":{\"color\":\"#FFA15A\",\"symbol\":\"circle\"},\"mode\":\"markers\",\"name\":\"Jambi\",\"orientation\":\"v\",\"showlegend\":true,\"x\":[199431.0,184029.0,193666.0,215975.0,190608.0,178766.0,178307.0,171395.0,164826.0,165729.0,159463.0,156803.0,154941.0,140613.0,149888.0,143034.0,155802.0,153897.0,157441.0,149369.0,153243.0,145990.0,122214.0,96588.0,97690.0,86202.68,69536.06,84772.93],\"xaxis\":\"x\",\"y\":[607529.0,564722.0,593502.0,657650.0,572269.0,550277.0,553641.0,536779.0,556564.0,561007.0,578346.0,579404.0,579635.0,544597.0,58663.0,581704.0,644947.0,628828.0,646641.0,625164.0,664535.0,664720.0,541486.0,642095.0,678127.0,383045.74,309932.68,374376.27],\"yaxis\":\"y\",\"type\":\"scatter\"},{\"hovertemplate\":\"Provinsi=Sumatera Selatan<br>Luas Panen=%{x}<br>Produksi=%{y}<extra></extra>\",\"legendgroup\":\"Sumatera Selatan\",\"marker\":{\"color\":\"#19d3f3\",\"symbol\":\"circle\"},\"mode\":\"markers\",\"name\":\"Sumatera Selatan\",\"orientation\":\"v\",\"showlegend\":true,\"x\":[439895.0,422109.0,492448.0,495958.0,469670.0,621829.0,530692.0,555427.0,511928.0,561724.0,570010.0,625013.0,626849.0,646927.0,691467.0,718797.0,746465.0,769478.0,784820.0,769725.0,800036.0,810900.0,872737.0,615184.0,621903.0,581574.61,539316.52,551320.76],\"xaxis\":\"x\",\"y\":[1409559.0,1347611.0,1557944.0,1666591.0,1577398.0,1931505.0,1789961.0,1863643.0,1723433.0,1899849.0,1977345.0,2260794.0,2320110.0,2456251.0,2753044.0,2971286.0,3125236.0,3272451.0,3384670.0,3295247.0,3676723.0,3670435.0,4247922.0,4881089.0,4807430.0,2994191.84,2603396.24,2696877.46],\"yaxis\":\"y\",\"type\":\"scatter\"},{\"hovertemplate\":\"Provinsi=Bengkulu<br>Luas Panen=%{x}<br>Produksi=%{y}<extra></extra>\",\"legendgroup\":\"Bengkulu\",\"marker\":{\"color\":\"#FF6692\",\"symbol\":\"circle\"},\"mode\":\"markers\",\"name\":\"Bengkulu\",\"orientation\":\"v\",\"showlegend\":true,\"x\":[109807.0,104747.0,115914.0,121929.0,113915.0,111158.0,114788.0,108751.0,105212.0,109519.0,110550.0,110929.0,116818.0,100991.0,123853.0,127506.0,132975.0,133629.0,127934.0,144448.0,147680.0,147572.0,128833.0,83449.0,82429.0,65891.16,64406.86,64137.28],\"xaxis\":\"x\",\"y\":[356709.0,334232.0,377337.0,396977.0,382123.0,375533.0,381577.0,362979.0,376973.0,379818.0,413375.0,414741.0,441276.0,378377.0,470469.0,484900.0,510160.0,516869.0,502552.0,581910.0,622832.0,593194.0,578654.0,629224.0,714017.0,288810.52,296472.07,296925.16],\"yaxis\":\"y\",\"type\":\"scatter\"},{\"hovertemplate\":\"Provinsi=Lampung<br>Luas Panen=%{x}<br>Produksi=%{y}<extra></extra>\",\"legendgroup\":\"Lampung\",\"marker\":{\"color\":\"#B6E880\",\"symbol\":\"circle\"},\"mode\":\"markers\",\"name\":\"Lampung\",\"orientation\":\"v\",\"showlegend\":true,\"x\":[433078.0,425940.0,514363.0,515192.0,454087.0,521575.0,476899.0,496879.0,501119.0,475461.0,472635.0,495519.0,496538.0,494102.0,524955.0,506547.0,570417.0,590608.0,606973.0,641876.0,638090.0,648731.0,707266.0,390799.0,396559.0,511940.93,464103.42,545149.05],\"xaxis\":\"x\",\"y\":[1646900.0,1615751.0,1943709.0,1971740.0,1753656.0,1975700.0,1801422.0,1946406.0,1992726.0,1951109.0,1966293.0,2091996.0,2124144.0,2129914.0,2308404.0,2341075.0,2673844.0,2807676.0,2940795.0,3101455.0,3207002.0,3320064.0,3641895.0,3831923.0,4090654.0,2488641.91,2164089.33,2604913.29],\"yaxis\":\"y\",\"type\":\"scatter\"}],                        {\"template\":{\"data\":{\"bar\":[{\"error_x\":{\"color\":\"#2a3f5f\"},\"error_y\":{\"color\":\"#2a3f5f\"},\"marker\":{\"line\":{\"color\":\"#E5ECF6\",\"width\":0.5},\"pattern\":{\"fillmode\":\"overlay\",\"size\":10,\"solidity\":0.2}},\"type\":\"bar\"}],\"barpolar\":[{\"marker\":{\"line\":{\"color\":\"#E5ECF6\",\"width\":0.5},\"pattern\":{\"fillmode\":\"overlay\",\"size\":10,\"solidity\":0.2}},\"type\":\"barpolar\"}],\"carpet\":[{\"aaxis\":{\"endlinecolor\":\"#2a3f5f\",\"gridcolor\":\"white\",\"linecolor\":\"white\",\"minorgridcolor\":\"white\",\"startlinecolor\":\"#2a3f5f\"},\"baxis\":{\"endlinecolor\":\"#2a3f5f\",\"gridcolor\":\"white\",\"linecolor\":\"white\",\"minorgridcolor\":\"white\",\"startlinecolor\":\"#2a3f5f\"},\"type\":\"carpet\"}],\"choropleth\":[{\"colorbar\":{\"outlinewidth\":0,\"ticks\":\"\"},\"type\":\"choropleth\"}],\"contour\":[{\"colorbar\":{\"outlinewidth\":0,\"ticks\":\"\"},\"colorscale\":[[0.0,\"#0d0887\"],[0.1111111111111111,\"#46039f\"],[0.2222222222222222,\"#7201a8\"],[0.3333333333333333,\"#9c179e\"],[0.4444444444444444,\"#bd3786\"],[0.5555555555555556,\"#d8576b\"],[0.6666666666666666,\"#ed7953\"],[0.7777777777777778,\"#fb9f3a\"],[0.8888888888888888,\"#fdca26\"],[1.0,\"#f0f921\"]],\"type\":\"contour\"}],\"contourcarpet\":[{\"colorbar\":{\"outlinewidth\":0,\"ticks\":\"\"},\"type\":\"contourcarpet\"}],\"heatmap\":[{\"colorbar\":{\"outlinewidth\":0,\"ticks\":\"\"},\"colorscale\":[[0.0,\"#0d0887\"],[0.1111111111111111,\"#46039f\"],[0.2222222222222222,\"#7201a8\"],[0.3333333333333333,\"#9c179e\"],[0.4444444444444444,\"#bd3786\"],[0.5555555555555556,\"#d8576b\"],[0.6666666666666666,\"#ed7953\"],[0.7777777777777778,\"#fb9f3a\"],[0.8888888888888888,\"#fdca26\"],[1.0,\"#f0f921\"]],\"type\":\"heatmap\"}],\"heatmapgl\":[{\"colorbar\":{\"outlinewidth\":0,\"ticks\":\"\"},\"colorscale\":[[0.0,\"#0d0887\"],[0.1111111111111111,\"#46039f\"],[0.2222222222222222,\"#7201a8\"],[0.3333333333333333,\"#9c179e\"],[0.4444444444444444,\"#bd3786\"],[0.5555555555555556,\"#d8576b\"],[0.6666666666666666,\"#ed7953\"],[0.7777777777777778,\"#fb9f3a\"],[0.8888888888888888,\"#fdca26\"],[1.0,\"#f0f921\"]],\"type\":\"heatmapgl\"}],\"histogram\":[{\"marker\":{\"pattern\":{\"fillmode\":\"overlay\",\"size\":10,\"solidity\":0.2}},\"type\":\"histogram\"}],\"histogram2d\":[{\"colorbar\":{\"outlinewidth\":0,\"ticks\":\"\"},\"colorscale\":[[0.0,\"#0d0887\"],[0.1111111111111111,\"#46039f\"],[0.2222222222222222,\"#7201a8\"],[0.3333333333333333,\"#9c179e\"],[0.4444444444444444,\"#bd3786\"],[0.5555555555555556,\"#d8576b\"],[0.6666666666666666,\"#ed7953\"],[0.7777777777777778,\"#fb9f3a\"],[0.8888888888888888,\"#fdca26\"],[1.0,\"#f0f921\"]],\"type\":\"histogram2d\"}],\"histogram2dcontour\":[{\"colorbar\":{\"outlinewidth\":0,\"ticks\":\"\"},\"colorscale\":[[0.0,\"#0d0887\"],[0.1111111111111111,\"#46039f\"],[0.2222222222222222,\"#7201a8\"],[0.3333333333333333,\"#9c179e\"],[0.4444444444444444,\"#bd3786\"],[0.5555555555555556,\"#d8576b\"],[0.6666666666666666,\"#ed7953\"],[0.7777777777777778,\"#fb9f3a\"],[0.8888888888888888,\"#fdca26\"],[1.0,\"#f0f921\"]],\"type\":\"histogram2dcontour\"}],\"mesh3d\":[{\"colorbar\":{\"outlinewidth\":0,\"ticks\":\"\"},\"type\":\"mesh3d\"}],\"parcoords\":[{\"line\":{\"colorbar\":{\"outlinewidth\":0,\"ticks\":\"\"}},\"type\":\"parcoords\"}],\"pie\":[{\"automargin\":true,\"type\":\"pie\"}],\"scatter\":[{\"marker\":{\"colorbar\":{\"outlinewidth\":0,\"ticks\":\"\"}},\"type\":\"scatter\"}],\"scatter3d\":[{\"line\":{\"colorbar\":{\"outlinewidth\":0,\"ticks\":\"\"}},\"marker\":{\"colorbar\":{\"outlinewidth\":0,\"ticks\":\"\"}},\"type\":\"scatter3d\"}],\"scattercarpet\":[{\"marker\":{\"colorbar\":{\"outlinewidth\":0,\"ticks\":\"\"}},\"type\":\"scattercarpet\"}],\"scattergeo\":[{\"marker\":{\"colorbar\":{\"outlinewidth\":0,\"ticks\":\"\"}},\"type\":\"scattergeo\"}],\"scattergl\":[{\"marker\":{\"colorbar\":{\"outlinewidth\":0,\"ticks\":\"\"}},\"type\":\"scattergl\"}],\"scattermapbox\":[{\"marker\":{\"colorbar\":{\"outlinewidth\":0,\"ticks\":\"\"}},\"type\":\"scattermapbox\"}],\"scatterpolar\":[{\"marker\":{\"colorbar\":{\"outlinewidth\":0,\"ticks\":\"\"}},\"type\":\"scatterpolar\"}],\"scatterpolargl\":[{\"marker\":{\"colorbar\":{\"outlinewidth\":0,\"ticks\":\"\"}},\"type\":\"scatterpolargl\"}],\"scatterternary\":[{\"marker\":{\"colorbar\":{\"outlinewidth\":0,\"ticks\":\"\"}},\"type\":\"scatterternary\"}],\"surface\":[{\"colorbar\":{\"outlinewidth\":0,\"ticks\":\"\"},\"colorscale\":[[0.0,\"#0d0887\"],[0.1111111111111111,\"#46039f\"],[0.2222222222222222,\"#7201a8\"],[0.3333333333333333,\"#9c179e\"],[0.4444444444444444,\"#bd3786\"],[0.5555555555555556,\"#d8576b\"],[0.6666666666666666,\"#ed7953\"],[0.7777777777777778,\"#fb9f3a\"],[0.8888888888888888,\"#fdca26\"],[1.0,\"#f0f921\"]],\"type\":\"surface\"}],\"table\":[{\"cells\":{\"fill\":{\"color\":\"#EBF0F8\"},\"line\":{\"color\":\"white\"}},\"header\":{\"fill\":{\"color\":\"#C8D4E3\"},\"line\":{\"color\":\"white\"}},\"type\":\"table\"}]},\"layout\":{\"annotationdefaults\":{\"arrowcolor\":\"#2a3f5f\",\"arrowhead\":0,\"arrowwidth\":1},\"autotypenumbers\":\"strict\",\"coloraxis\":{\"colorbar\":{\"outlinewidth\":0,\"ticks\":\"\"}},\"colorscale\":{\"diverging\":[[0,\"#8e0152\"],[0.1,\"#c51b7d\"],[0.2,\"#de77ae\"],[0.3,\"#f1b6da\"],[0.4,\"#fde0ef\"],[0.5,\"#f7f7f7\"],[0.6,\"#e6f5d0\"],[0.7,\"#b8e186\"],[0.8,\"#7fbc41\"],[0.9,\"#4d9221\"],[1,\"#276419\"]],\"sequential\":[[0.0,\"#0d0887\"],[0.1111111111111111,\"#46039f\"],[0.2222222222222222,\"#7201a8\"],[0.3333333333333333,\"#9c179e\"],[0.4444444444444444,\"#bd3786\"],[0.5555555555555556,\"#d8576b\"],[0.6666666666666666,\"#ed7953\"],[0.7777777777777778,\"#fb9f3a\"],[0.8888888888888888,\"#fdca26\"],[1.0,\"#f0f921\"]],\"sequentialminus\":[[0.0,\"#0d0887\"],[0.1111111111111111,\"#46039f\"],[0.2222222222222222,\"#7201a8\"],[0.3333333333333333,\"#9c179e\"],[0.4444444444444444,\"#bd3786\"],[0.5555555555555556,\"#d8576b\"],[0.6666666666666666,\"#ed7953\"],[0.7777777777777778,\"#fb9f3a\"],[0.8888888888888888,\"#fdca26\"],[1.0,\"#f0f921\"]]},\"colorway\":[\"#636efa\",\"#EF553B\",\"#00cc96\",\"#ab63fa\",\"#FFA15A\",\"#19d3f3\",\"#FF6692\",\"#B6E880\",\"#FF97FF\",\"#FECB52\"],\"font\":{\"color\":\"#2a3f5f\"},\"geo\":{\"bgcolor\":\"white\",\"lakecolor\":\"white\",\"landcolor\":\"#E5ECF6\",\"showlakes\":true,\"showland\":true,\"subunitcolor\":\"white\"},\"hoverlabel\":{\"align\":\"left\"},\"hovermode\":\"closest\",\"mapbox\":{\"style\":\"light\"},\"paper_bgcolor\":\"white\",\"plot_bgcolor\":\"#E5ECF6\",\"polar\":{\"angularaxis\":{\"gridcolor\":\"white\",\"linecolor\":\"white\",\"ticks\":\"\"},\"bgcolor\":\"#E5ECF6\",\"radialaxis\":{\"gridcolor\":\"white\",\"linecolor\":\"white\",\"ticks\":\"\"}},\"scene\":{\"xaxis\":{\"backgroundcolor\":\"#E5ECF6\",\"gridcolor\":\"white\",\"gridwidth\":2,\"linecolor\":\"white\",\"showbackground\":true,\"ticks\":\"\",\"zerolinecolor\":\"white\"},\"yaxis\":{\"backgroundcolor\":\"#E5ECF6\",\"gridcolor\":\"white\",\"gridwidth\":2,\"linecolor\":\"white\",\"showbackground\":true,\"ticks\":\"\",\"zerolinecolor\":\"white\"},\"zaxis\":{\"backgroundcolor\":\"#E5ECF6\",\"gridcolor\":\"white\",\"gridwidth\":2,\"linecolor\":\"white\",\"showbackground\":true,\"ticks\":\"\",\"zerolinecolor\":\"white\"}},\"shapedefaults\":{\"line\":{\"color\":\"#2a3f5f\"}},\"ternary\":{\"aaxis\":{\"gridcolor\":\"white\",\"linecolor\":\"white\",\"ticks\":\"\"},\"baxis\":{\"gridcolor\":\"white\",\"linecolor\":\"white\",\"ticks\":\"\"},\"bgcolor\":\"#E5ECF6\",\"caxis\":{\"gridcolor\":\"white\",\"linecolor\":\"white\",\"ticks\":\"\"}},\"title\":{\"x\":0.05},\"xaxis\":{\"automargin\":true,\"gridcolor\":\"white\",\"linecolor\":\"white\",\"ticks\":\"\",\"title\":{\"standoff\":15},\"zerolinecolor\":\"white\",\"zerolinewidth\":2},\"yaxis\":{\"automargin\":true,\"gridcolor\":\"white\",\"linecolor\":\"white\",\"ticks\":\"\",\"title\":{\"standoff\":15},\"zerolinecolor\":\"white\",\"zerolinewidth\":2}}},\"xaxis\":{\"anchor\":\"y\",\"domain\":[0.0,1.0],\"title\":{\"text\":\"Luas Panen\"}},\"yaxis\":{\"anchor\":\"x\",\"domain\":[0.0,1.0],\"title\":{\"text\":\"Produksi\"}},\"legend\":{\"title\":{\"text\":\"Provinsi\"},\"tracegroupgap\":0},\"margin\":{\"t\":60}},                        {\"responsive\": true}                    ).then(function(){\n",
              "                            \n",
              "var gd = document.getElementById('dbdb3906-4601-41e7-9287-f0087439b99b');\n",
              "var x = new MutationObserver(function (mutations, observer) {{\n",
              "        var display = window.getComputedStyle(gd).display;\n",
              "        if (!display || display === 'none') {{\n",
              "            console.log([gd, 'removed!']);\n",
              "            Plotly.purge(gd);\n",
              "            observer.disconnect();\n",
              "        }}\n",
              "}});\n",
              "\n",
              "// Listen for the removal of the full notebook cells\n",
              "var notebookContainer = gd.closest('#notebook-container');\n",
              "if (notebookContainer) {{\n",
              "    x.observe(notebookContainer, {childList: true});\n",
              "}}\n",
              "\n",
              "// Listen for the clearing of the current output cell\n",
              "var outputEl = gd.closest('.output');\n",
              "if (outputEl) {{\n",
              "    x.observe(outputEl, {childList: true});\n",
              "}}\n",
              "\n",
              "                        })                };                            </script>        </div>\n",
              "</body>\n",
              "</html>"
            ]
          },
          "metadata": {}
        }
      ]
    },
    {
      "cell_type": "markdown",
      "source": [
        "**konklusi** : Ternyata besarann atau jumlah panen produksi disuatu wilayah bergantung pada luas panen / lahan, semakin besar luas maka semakin besar pula hasil panen"
      ],
      "metadata": {
        "id": "MLkSBk_j2Oub"
      }
    },
    {
      "cell_type": "code",
      "source": [
        "total_produksi_prov = df.groupby(['Provinsi'])['Produksi'].sum().sort_values(ascending = False).reset_index()\n",
        "\n",
        "fig = px.bar(df, y=total_produksi_prov['Produksi'], x=total_produksi_prov['Provinsi'], text_auto='.2s',\n",
        "             color = total_produksi_prov['Provinsi'])\n",
        "fig.update_layout(title='Produksi Padi Berdasar Provinsi',\n",
        "                   xaxis_title='Provinsi',\n",
        "                   yaxis_title='Jumlah Produksi')\n",
        "fig.show()"
      ],
      "metadata": {
        "execution": {
          "iopub.status.busy": "2023-01-09T02:08:26.897342Z",
          "iopub.execute_input": "2023-01-09T02:08:26.897776Z",
          "iopub.status.idle": "2023-01-09T02:08:26.998973Z",
          "shell.execute_reply.started": "2023-01-09T02:08:26.897741Z",
          "shell.execute_reply": "2023-01-09T02:08:26.99783Z"
        },
        "trusted": true,
        "colab": {
          "base_uri": "https://localhost:8080/",
          "height": 542
        },
        "id": "d9Fbv6u82Ouc",
        "outputId": "569b471e-b529-4991-bcde-4108f0261fbe"
      },
      "execution_count": 33,
      "outputs": [
        {
          "output_type": "display_data",
          "data": {
            "text/html": [
              "<html>\n",
              "<head><meta charset=\"utf-8\" /></head>\n",
              "<body>\n",
              "    <div>            <script src=\"https://cdnjs.cloudflare.com/ajax/libs/mathjax/2.7.5/MathJax.js?config=TeX-AMS-MML_SVG\"></script><script type=\"text/javascript\">if (window.MathJax) {MathJax.Hub.Config({SVG: {font: \"STIX-Web\"}});}</script>                <script type=\"text/javascript\">window.PlotlyConfig = {MathJaxConfig: 'local'};</script>\n",
              "        <script src=\"https://cdn.plot.ly/plotly-2.8.3.min.js\"></script>                <div id=\"f80edec4-8d70-4007-b99a-1163e0acce8e\" class=\"plotly-graph-div\" style=\"height:525px; width:100%;\"></div>            <script type=\"text/javascript\">                                    window.PLOTLYENV=window.PLOTLYENV || {};                                    if (document.getElementById(\"f80edec4-8d70-4007-b99a-1163e0acce8e\")) {                    Plotly.newPlot(                        \"f80edec4-8d70-4007-b99a-1163e0acce8e\",                        [{\"alignmentgroup\":\"True\",\"hovertemplate\":\"color=Sumatera Utara<br>x=%{x}<br>y=%{y}<extra></extra>\",\"legendgroup\":\"Sumatera Utara\",\"marker\":{\"color\":\"#636efa\",\"pattern\":{\"shape\":\"\"}},\"name\":\"Sumatera Utara\",\"offsetgroup\":\"Sumatera Utara\",\"orientation\":\"v\",\"showlegend\":true,\"textposition\":\"auto\",\"texttemplate\":\"%{y:.2s}\",\"x\":[\"Sumatera Utara\"],\"xaxis\":\"x\",\"y\":[93253194.72],\"yaxis\":\"y\",\"type\":\"bar\"},{\"alignmentgroup\":\"True\",\"hovertemplate\":\"color=Sumatera Selatan<br>x=%{x}<br>y=%{y}<extra></extra>\",\"legendgroup\":\"Sumatera Selatan\",\"marker\":{\"color\":\"#EF553B\",\"pattern\":{\"shape\":\"\"}},\"name\":\"Sumatera Selatan\",\"offsetgroup\":\"Sumatera Selatan\",\"orientation\":\"v\",\"showlegend\":true,\"textposition\":\"auto\",\"texttemplate\":\"%{y:.2s}\",\"x\":[\"Sumatera Selatan\"],\"xaxis\":\"x\",\"y\":[74161992.54],\"yaxis\":\"y\",\"type\":\"bar\"},{\"alignmentgroup\":\"True\",\"hovertemplate\":\"color=Lampung<br>x=%{x}<br>y=%{y}<extra></extra>\",\"legendgroup\":\"Lampung\",\"marker\":{\"color\":\"#00cc96\",\"pattern\":{\"shape\":\"\"}},\"name\":\"Lampung\",\"offsetgroup\":\"Lampung\",\"orientation\":\"v\",\"showlegend\":true,\"textposition\":\"auto\",\"texttemplate\":\"%{y:.2s}\",\"x\":[\"Lampung\"],\"xaxis\":\"x\",\"y\":[68433897.53],\"yaxis\":\"y\",\"type\":\"bar\"},{\"alignmentgroup\":\"True\",\"hovertemplate\":\"color=Sumatera Barat<br>x=%{x}<br>y=%{y}<extra></extra>\",\"legendgroup\":\"Sumatera Barat\",\"marker\":{\"color\":\"#ab63fa\",\"pattern\":{\"shape\":\"\"}},\"name\":\"Sumatera Barat\",\"offsetgroup\":\"Sumatera Barat\",\"orientation\":\"v\",\"showlegend\":true,\"textposition\":\"auto\",\"texttemplate\":\"%{y:.2s}\",\"x\":[\"Sumatera Barat\"],\"xaxis\":\"x\",\"y\":[55731075.23],\"yaxis\":\"y\",\"type\":\"bar\"},{\"alignmentgroup\":\"True\",\"hovertemplate\":\"color=Aceh<br>x=%{x}<br>y=%{y}<extra></extra>\",\"legendgroup\":\"Aceh\",\"marker\":{\"color\":\"#FFA15A\",\"pattern\":{\"shape\":\"\"}},\"name\":\"Aceh\",\"offsetgroup\":\"Aceh\",\"orientation\":\"v\",\"showlegend\":true,\"textposition\":\"auto\",\"texttemplate\":\"%{y:.2s}\",\"x\":[\"Aceh\"],\"xaxis\":\"x\",\"y\":[45324629.64],\"yaxis\":\"y\",\"type\":\"bar\"},{\"alignmentgroup\":\"True\",\"hovertemplate\":\"color=Jambi<br>x=%{x}<br>y=%{y}<extra></extra>\",\"legendgroup\":\"Jambi\",\"marker\":{\"color\":\"#19d3f3\",\"pattern\":{\"shape\":\"\"}},\"name\":\"Jambi\",\"offsetgroup\":\"Jambi\",\"orientation\":\"v\",\"showlegend\":true,\"textposition\":\"auto\",\"texttemplate\":\"%{y:.2s}\",\"x\":[\"Jambi\"],\"xaxis\":\"x\",\"y\":[15480186.69],\"yaxis\":\"y\",\"type\":\"bar\"},{\"alignmentgroup\":\"True\",\"hovertemplate\":\"color=Bengkulu<br>x=%{x}<br>y=%{y}<extra></extra>\",\"legendgroup\":\"Bengkulu\",\"marker\":{\"color\":\"#FF6692\",\"pattern\":{\"shape\":\"\"}},\"name\":\"Bengkulu\",\"offsetgroup\":\"Bengkulu\",\"orientation\":\"v\",\"showlegend\":true,\"textposition\":\"auto\",\"texttemplate\":\"%{y:.2s}\",\"x\":[\"Bengkulu\"],\"xaxis\":\"x\",\"y\":[12459015.75],\"yaxis\":\"y\",\"type\":\"bar\"},{\"alignmentgroup\":\"True\",\"hovertemplate\":\"color=Riau<br>x=%{x}<br>y=%{y}<extra></extra>\",\"legendgroup\":\"Riau\",\"marker\":{\"color\":\"#B6E880\",\"pattern\":{\"shape\":\"\"}},\"name\":\"Riau\",\"offsetgroup\":\"Riau\",\"orientation\":\"v\",\"showlegend\":true,\"textposition\":\"auto\",\"texttemplate\":\"%{y:.2s}\",\"x\":[\"Riau\"],\"xaxis\":\"x\",\"y\":[11409006.55],\"yaxis\":\"y\",\"type\":\"bar\"}],                        {\"template\":{\"data\":{\"bar\":[{\"error_x\":{\"color\":\"#2a3f5f\"},\"error_y\":{\"color\":\"#2a3f5f\"},\"marker\":{\"line\":{\"color\":\"#E5ECF6\",\"width\":0.5},\"pattern\":{\"fillmode\":\"overlay\",\"size\":10,\"solidity\":0.2}},\"type\":\"bar\"}],\"barpolar\":[{\"marker\":{\"line\":{\"color\":\"#E5ECF6\",\"width\":0.5},\"pattern\":{\"fillmode\":\"overlay\",\"size\":10,\"solidity\":0.2}},\"type\":\"barpolar\"}],\"carpet\":[{\"aaxis\":{\"endlinecolor\":\"#2a3f5f\",\"gridcolor\":\"white\",\"linecolor\":\"white\",\"minorgridcolor\":\"white\",\"startlinecolor\":\"#2a3f5f\"},\"baxis\":{\"endlinecolor\":\"#2a3f5f\",\"gridcolor\":\"white\",\"linecolor\":\"white\",\"minorgridcolor\":\"white\",\"startlinecolor\":\"#2a3f5f\"},\"type\":\"carpet\"}],\"choropleth\":[{\"colorbar\":{\"outlinewidth\":0,\"ticks\":\"\"},\"type\":\"choropleth\"}],\"contour\":[{\"colorbar\":{\"outlinewidth\":0,\"ticks\":\"\"},\"colorscale\":[[0.0,\"#0d0887\"],[0.1111111111111111,\"#46039f\"],[0.2222222222222222,\"#7201a8\"],[0.3333333333333333,\"#9c179e\"],[0.4444444444444444,\"#bd3786\"],[0.5555555555555556,\"#d8576b\"],[0.6666666666666666,\"#ed7953\"],[0.7777777777777778,\"#fb9f3a\"],[0.8888888888888888,\"#fdca26\"],[1.0,\"#f0f921\"]],\"type\":\"contour\"}],\"contourcarpet\":[{\"colorbar\":{\"outlinewidth\":0,\"ticks\":\"\"},\"type\":\"contourcarpet\"}],\"heatmap\":[{\"colorbar\":{\"outlinewidth\":0,\"ticks\":\"\"},\"colorscale\":[[0.0,\"#0d0887\"],[0.1111111111111111,\"#46039f\"],[0.2222222222222222,\"#7201a8\"],[0.3333333333333333,\"#9c179e\"],[0.4444444444444444,\"#bd3786\"],[0.5555555555555556,\"#d8576b\"],[0.6666666666666666,\"#ed7953\"],[0.7777777777777778,\"#fb9f3a\"],[0.8888888888888888,\"#fdca26\"],[1.0,\"#f0f921\"]],\"type\":\"heatmap\"}],\"heatmapgl\":[{\"colorbar\":{\"outlinewidth\":0,\"ticks\":\"\"},\"colorscale\":[[0.0,\"#0d0887\"],[0.1111111111111111,\"#46039f\"],[0.2222222222222222,\"#7201a8\"],[0.3333333333333333,\"#9c179e\"],[0.4444444444444444,\"#bd3786\"],[0.5555555555555556,\"#d8576b\"],[0.6666666666666666,\"#ed7953\"],[0.7777777777777778,\"#fb9f3a\"],[0.8888888888888888,\"#fdca26\"],[1.0,\"#f0f921\"]],\"type\":\"heatmapgl\"}],\"histogram\":[{\"marker\":{\"pattern\":{\"fillmode\":\"overlay\",\"size\":10,\"solidity\":0.2}},\"type\":\"histogram\"}],\"histogram2d\":[{\"colorbar\":{\"outlinewidth\":0,\"ticks\":\"\"},\"colorscale\":[[0.0,\"#0d0887\"],[0.1111111111111111,\"#46039f\"],[0.2222222222222222,\"#7201a8\"],[0.3333333333333333,\"#9c179e\"],[0.4444444444444444,\"#bd3786\"],[0.5555555555555556,\"#d8576b\"],[0.6666666666666666,\"#ed7953\"],[0.7777777777777778,\"#fb9f3a\"],[0.8888888888888888,\"#fdca26\"],[1.0,\"#f0f921\"]],\"type\":\"histogram2d\"}],\"histogram2dcontour\":[{\"colorbar\":{\"outlinewidth\":0,\"ticks\":\"\"},\"colorscale\":[[0.0,\"#0d0887\"],[0.1111111111111111,\"#46039f\"],[0.2222222222222222,\"#7201a8\"],[0.3333333333333333,\"#9c179e\"],[0.4444444444444444,\"#bd3786\"],[0.5555555555555556,\"#d8576b\"],[0.6666666666666666,\"#ed7953\"],[0.7777777777777778,\"#fb9f3a\"],[0.8888888888888888,\"#fdca26\"],[1.0,\"#f0f921\"]],\"type\":\"histogram2dcontour\"}],\"mesh3d\":[{\"colorbar\":{\"outlinewidth\":0,\"ticks\":\"\"},\"type\":\"mesh3d\"}],\"parcoords\":[{\"line\":{\"colorbar\":{\"outlinewidth\":0,\"ticks\":\"\"}},\"type\":\"parcoords\"}],\"pie\":[{\"automargin\":true,\"type\":\"pie\"}],\"scatter\":[{\"marker\":{\"colorbar\":{\"outlinewidth\":0,\"ticks\":\"\"}},\"type\":\"scatter\"}],\"scatter3d\":[{\"line\":{\"colorbar\":{\"outlinewidth\":0,\"ticks\":\"\"}},\"marker\":{\"colorbar\":{\"outlinewidth\":0,\"ticks\":\"\"}},\"type\":\"scatter3d\"}],\"scattercarpet\":[{\"marker\":{\"colorbar\":{\"outlinewidth\":0,\"ticks\":\"\"}},\"type\":\"scattercarpet\"}],\"scattergeo\":[{\"marker\":{\"colorbar\":{\"outlinewidth\":0,\"ticks\":\"\"}},\"type\":\"scattergeo\"}],\"scattergl\":[{\"marker\":{\"colorbar\":{\"outlinewidth\":0,\"ticks\":\"\"}},\"type\":\"scattergl\"}],\"scattermapbox\":[{\"marker\":{\"colorbar\":{\"outlinewidth\":0,\"ticks\":\"\"}},\"type\":\"scattermapbox\"}],\"scatterpolar\":[{\"marker\":{\"colorbar\":{\"outlinewidth\":0,\"ticks\":\"\"}},\"type\":\"scatterpolar\"}],\"scatterpolargl\":[{\"marker\":{\"colorbar\":{\"outlinewidth\":0,\"ticks\":\"\"}},\"type\":\"scatterpolargl\"}],\"scatterternary\":[{\"marker\":{\"colorbar\":{\"outlinewidth\":0,\"ticks\":\"\"}},\"type\":\"scatterternary\"}],\"surface\":[{\"colorbar\":{\"outlinewidth\":0,\"ticks\":\"\"},\"colorscale\":[[0.0,\"#0d0887\"],[0.1111111111111111,\"#46039f\"],[0.2222222222222222,\"#7201a8\"],[0.3333333333333333,\"#9c179e\"],[0.4444444444444444,\"#bd3786\"],[0.5555555555555556,\"#d8576b\"],[0.6666666666666666,\"#ed7953\"],[0.7777777777777778,\"#fb9f3a\"],[0.8888888888888888,\"#fdca26\"],[1.0,\"#f0f921\"]],\"type\":\"surface\"}],\"table\":[{\"cells\":{\"fill\":{\"color\":\"#EBF0F8\"},\"line\":{\"color\":\"white\"}},\"header\":{\"fill\":{\"color\":\"#C8D4E3\"},\"line\":{\"color\":\"white\"}},\"type\":\"table\"}]},\"layout\":{\"annotationdefaults\":{\"arrowcolor\":\"#2a3f5f\",\"arrowhead\":0,\"arrowwidth\":1},\"autotypenumbers\":\"strict\",\"coloraxis\":{\"colorbar\":{\"outlinewidth\":0,\"ticks\":\"\"}},\"colorscale\":{\"diverging\":[[0,\"#8e0152\"],[0.1,\"#c51b7d\"],[0.2,\"#de77ae\"],[0.3,\"#f1b6da\"],[0.4,\"#fde0ef\"],[0.5,\"#f7f7f7\"],[0.6,\"#e6f5d0\"],[0.7,\"#b8e186\"],[0.8,\"#7fbc41\"],[0.9,\"#4d9221\"],[1,\"#276419\"]],\"sequential\":[[0.0,\"#0d0887\"],[0.1111111111111111,\"#46039f\"],[0.2222222222222222,\"#7201a8\"],[0.3333333333333333,\"#9c179e\"],[0.4444444444444444,\"#bd3786\"],[0.5555555555555556,\"#d8576b\"],[0.6666666666666666,\"#ed7953\"],[0.7777777777777778,\"#fb9f3a\"],[0.8888888888888888,\"#fdca26\"],[1.0,\"#f0f921\"]],\"sequentialminus\":[[0.0,\"#0d0887\"],[0.1111111111111111,\"#46039f\"],[0.2222222222222222,\"#7201a8\"],[0.3333333333333333,\"#9c179e\"],[0.4444444444444444,\"#bd3786\"],[0.5555555555555556,\"#d8576b\"],[0.6666666666666666,\"#ed7953\"],[0.7777777777777778,\"#fb9f3a\"],[0.8888888888888888,\"#fdca26\"],[1.0,\"#f0f921\"]]},\"colorway\":[\"#636efa\",\"#EF553B\",\"#00cc96\",\"#ab63fa\",\"#FFA15A\",\"#19d3f3\",\"#FF6692\",\"#B6E880\",\"#FF97FF\",\"#FECB52\"],\"font\":{\"color\":\"#2a3f5f\"},\"geo\":{\"bgcolor\":\"white\",\"lakecolor\":\"white\",\"landcolor\":\"#E5ECF6\",\"showlakes\":true,\"showland\":true,\"subunitcolor\":\"white\"},\"hoverlabel\":{\"align\":\"left\"},\"hovermode\":\"closest\",\"mapbox\":{\"style\":\"light\"},\"paper_bgcolor\":\"white\",\"plot_bgcolor\":\"#E5ECF6\",\"polar\":{\"angularaxis\":{\"gridcolor\":\"white\",\"linecolor\":\"white\",\"ticks\":\"\"},\"bgcolor\":\"#E5ECF6\",\"radialaxis\":{\"gridcolor\":\"white\",\"linecolor\":\"white\",\"ticks\":\"\"}},\"scene\":{\"xaxis\":{\"backgroundcolor\":\"#E5ECF6\",\"gridcolor\":\"white\",\"gridwidth\":2,\"linecolor\":\"white\",\"showbackground\":true,\"ticks\":\"\",\"zerolinecolor\":\"white\"},\"yaxis\":{\"backgroundcolor\":\"#E5ECF6\",\"gridcolor\":\"white\",\"gridwidth\":2,\"linecolor\":\"white\",\"showbackground\":true,\"ticks\":\"\",\"zerolinecolor\":\"white\"},\"zaxis\":{\"backgroundcolor\":\"#E5ECF6\",\"gridcolor\":\"white\",\"gridwidth\":2,\"linecolor\":\"white\",\"showbackground\":true,\"ticks\":\"\",\"zerolinecolor\":\"white\"}},\"shapedefaults\":{\"line\":{\"color\":\"#2a3f5f\"}},\"ternary\":{\"aaxis\":{\"gridcolor\":\"white\",\"linecolor\":\"white\",\"ticks\":\"\"},\"baxis\":{\"gridcolor\":\"white\",\"linecolor\":\"white\",\"ticks\":\"\"},\"bgcolor\":\"#E5ECF6\",\"caxis\":{\"gridcolor\":\"white\",\"linecolor\":\"white\",\"ticks\":\"\"}},\"title\":{\"x\":0.05},\"xaxis\":{\"automargin\":true,\"gridcolor\":\"white\",\"linecolor\":\"white\",\"ticks\":\"\",\"title\":{\"standoff\":15},\"zerolinecolor\":\"white\",\"zerolinewidth\":2},\"yaxis\":{\"automargin\":true,\"gridcolor\":\"white\",\"linecolor\":\"white\",\"ticks\":\"\",\"title\":{\"standoff\":15},\"zerolinecolor\":\"white\",\"zerolinewidth\":2}}},\"xaxis\":{\"anchor\":\"y\",\"domain\":[0.0,1.0],\"title\":{\"text\":\"Provinsi\"}},\"yaxis\":{\"anchor\":\"x\",\"domain\":[0.0,1.0],\"title\":{\"text\":\"Jumlah Produksi\"}},\"legend\":{\"title\":{\"text\":\"color\"},\"tracegroupgap\":0},\"margin\":{\"t\":60},\"barmode\":\"relative\",\"title\":{\"text\":\"Produksi Padi Berdasar Provinsi\"}},                        {\"responsive\": true}                    ).then(function(){\n",
              "                            \n",
              "var gd = document.getElementById('f80edec4-8d70-4007-b99a-1163e0acce8e');\n",
              "var x = new MutationObserver(function (mutations, observer) {{\n",
              "        var display = window.getComputedStyle(gd).display;\n",
              "        if (!display || display === 'none') {{\n",
              "            console.log([gd, 'removed!']);\n",
              "            Plotly.purge(gd);\n",
              "            observer.disconnect();\n",
              "        }}\n",
              "}});\n",
              "\n",
              "// Listen for the removal of the full notebook cells\n",
              "var notebookContainer = gd.closest('#notebook-container');\n",
              "if (notebookContainer) {{\n",
              "    x.observe(notebookContainer, {childList: true});\n",
              "}}\n",
              "\n",
              "// Listen for the clearing of the current output cell\n",
              "var outputEl = gd.closest('.output');\n",
              "if (outputEl) {{\n",
              "    x.observe(outputEl, {childList: true});\n",
              "}}\n",
              "\n",
              "                        })                };                            </script>        </div>\n",
              "</body>\n",
              "</html>"
            ]
          },
          "metadata": {}
        }
      ]
    },
    {
      "cell_type": "markdown",
      "source": [
        "Kota Sumatera Utara paling banyak menghasilkan produksi padi se Sumatera"
      ],
      "metadata": {
        "id": "XTy43sXT2Oue"
      }
    },
    {
      "cell_type": "code",
      "source": [
        "timeline_prov = df.groupby(['Provinsi','Tahun'] )['Produksi'].sum().reset_index()\n",
        "\n",
        "fig = px.line(x = timeline_prov['Tahun'], y = timeline_prov['Produksi'],color =timeline_prov['Provinsi'], markers=True)\n",
        "fig.update_layout(title='Produksi Padi Dari Tahun ke Tahun Berdasarkan Provinsi',\n",
        "                   xaxis_title='Tahun',\n",
        "                   yaxis_title='Jumlah Produksi')\n",
        "fig.show()"
      ],
      "metadata": {
        "execution": {
          "iopub.status.busy": "2023-01-09T02:08:27.696923Z",
          "iopub.execute_input": "2023-01-09T02:08:27.697369Z",
          "iopub.status.idle": "2023-01-09T02:08:27.798115Z",
          "shell.execute_reply.started": "2023-01-09T02:08:27.697332Z",
          "shell.execute_reply": "2023-01-09T02:08:27.797223Z"
        },
        "trusted": true,
        "colab": {
          "base_uri": "https://localhost:8080/",
          "height": 542
        },
        "id": "P0XwXSid2Ouf",
        "outputId": "a1f42547-4811-40a6-9b49-1291afd1cfe2"
      },
      "execution_count": 34,
      "outputs": [
        {
          "output_type": "display_data",
          "data": {
            "text/html": [
              "<html>\n",
              "<head><meta charset=\"utf-8\" /></head>\n",
              "<body>\n",
              "    <div>            <script src=\"https://cdnjs.cloudflare.com/ajax/libs/mathjax/2.7.5/MathJax.js?config=TeX-AMS-MML_SVG\"></script><script type=\"text/javascript\">if (window.MathJax) {MathJax.Hub.Config({SVG: {font: \"STIX-Web\"}});}</script>                <script type=\"text/javascript\">window.PlotlyConfig = {MathJaxConfig: 'local'};</script>\n",
              "        <script src=\"https://cdn.plot.ly/plotly-2.8.3.min.js\"></script>                <div id=\"d3091325-8b90-4c07-bee8-956918cc5139\" class=\"plotly-graph-div\" style=\"height:525px; width:100%;\"></div>            <script type=\"text/javascript\">                                    window.PLOTLYENV=window.PLOTLYENV || {};                                    if (document.getElementById(\"d3091325-8b90-4c07-bee8-956918cc5139\")) {                    Plotly.newPlot(                        \"d3091325-8b90-4c07-bee8-956918cc5139\",                        [{\"hovertemplate\":\"color=Aceh<br>x=%{x}<br>y=%{y}<extra></extra>\",\"legendgroup\":\"Aceh\",\"line\":{\"color\":\"#636efa\",\"dash\":\"solid\"},\"marker\":{\"symbol\":\"circle\"},\"mode\":\"markers+lines\",\"name\":\"Aceh\",\"orientation\":\"v\",\"showlegend\":true,\"x\":[1993,1994,1995,1996,1997,1998,1999,2000,2001,2002,2003,2004,2005,2006,2007,2008,2009,2010,2011,2012,2013,2014,2015,2016,2017,2018,2019,2020],\"xaxis\":\"x\",\"y\":[1329536.0,1299699.0,1382905.0,1419128.0,1368074.0,1404580.0,1478712.0,1486909.0,1547499.0,1314165.0,1246614.0,1350748.0,1411650.0,1552078.0,1556858.0,1402287.0,1533369.0,1788738.0,1772962.0,1582393.0,2331046.0,1820062.0,1956940.0,2180754.0,2478922.0,1751996.94,1714437.6,1861567.1],\"yaxis\":\"y\",\"type\":\"scatter\"},{\"hovertemplate\":\"color=Bengkulu<br>x=%{x}<br>y=%{y}<extra></extra>\",\"legendgroup\":\"Bengkulu\",\"line\":{\"color\":\"#EF553B\",\"dash\":\"solid\"},\"marker\":{\"symbol\":\"circle\"},\"mode\":\"markers+lines\",\"name\":\"Bengkulu\",\"orientation\":\"v\",\"showlegend\":true,\"x\":[1993,1994,1995,1996,1997,1998,1999,2000,2001,2002,2003,2004,2005,2006,2007,2008,2009,2010,2011,2012,2013,2014,2015,2016,2017,2018,2019,2020],\"xaxis\":\"x\",\"y\":[356709.0,334232.0,377337.0,396977.0,382123.0,375533.0,381577.0,362979.0,376973.0,379818.0,413375.0,414741.0,441276.0,378377.0,470469.0,484900.0,510160.0,516869.0,502552.0,581910.0,622832.0,593194.0,578654.0,629224.0,714017.0,288810.52,296472.07,296925.16],\"yaxis\":\"y\",\"type\":\"scatter\"},{\"hovertemplate\":\"color=Jambi<br>x=%{x}<br>y=%{y}<extra></extra>\",\"legendgroup\":\"Jambi\",\"line\":{\"color\":\"#00cc96\",\"dash\":\"solid\"},\"marker\":{\"symbol\":\"circle\"},\"mode\":\"markers+lines\",\"name\":\"Jambi\",\"orientation\":\"v\",\"showlegend\":true,\"x\":[1993,1994,1995,1996,1997,1998,1999,2000,2001,2002,2003,2004,2005,2006,2007,2008,2009,2010,2011,2012,2013,2014,2015,2016,2017,2018,2019,2020],\"xaxis\":\"x\",\"y\":[607529.0,564722.0,593502.0,657650.0,572269.0,550277.0,553641.0,536779.0,556564.0,561007.0,578346.0,579404.0,579635.0,544597.0,58663.0,581704.0,644947.0,628828.0,646641.0,625164.0,664535.0,664720.0,541486.0,642095.0,678127.0,383045.74,309932.68,374376.27],\"yaxis\":\"y\",\"type\":\"scatter\"},{\"hovertemplate\":\"color=Lampung<br>x=%{x}<br>y=%{y}<extra></extra>\",\"legendgroup\":\"Lampung\",\"line\":{\"color\":\"#ab63fa\",\"dash\":\"solid\"},\"marker\":{\"symbol\":\"circle\"},\"mode\":\"markers+lines\",\"name\":\"Lampung\",\"orientation\":\"v\",\"showlegend\":true,\"x\":[1993,1994,1995,1996,1997,1998,1999,2000,2001,2002,2003,2004,2005,2006,2007,2008,2009,2010,2011,2012,2013,2014,2015,2016,2017,2018,2019,2020],\"xaxis\":\"x\",\"y\":[1646900.0,1615751.0,1943709.0,1971740.0,1753656.0,1975700.0,1801422.0,1946406.0,1992726.0,1951109.0,1966293.0,2091996.0,2124144.0,2129914.0,2308404.0,2341075.0,2673844.0,2807676.0,2940795.0,3101455.0,3207002.0,3320064.0,3641895.0,3831923.0,4090654.0,2488641.91,2164089.33,2604913.29],\"yaxis\":\"y\",\"type\":\"scatter\"},{\"hovertemplate\":\"color=Riau<br>x=%{x}<br>y=%{y}<extra></extra>\",\"legendgroup\":\"Riau\",\"line\":{\"color\":\"#FFA15A\",\"dash\":\"solid\"},\"marker\":{\"symbol\":\"circle\"},\"mode\":\"markers+lines\",\"name\":\"Riau\",\"orientation\":\"v\",\"showlegend\":true,\"x\":[1993,1994,1995,1996,1997,1998,1999,2000,2001,2002,2003,2004,2005,2006,2007,2008,2009,2010,2011,2012,2013,2014,2015,2016,2017,2018,2019,2020],\"xaxis\":\"x\",\"y\":[436297.0,445361.0,458756.0,461905.0,416135.0,370124.0,461630.0,431351.0,413391.0,396644.0,414237.0,454186.0,424095.0,42938.0,490087.0,494260.0,531429.0,574864.0,535788.0,512152.0,434144.0,385475.0,393917.0,325826.0,337421.0,266375.53,230873.97,269344.05],\"yaxis\":\"y\",\"type\":\"scatter\"},{\"hovertemplate\":\"color=Sumatera Barat<br>x=%{x}<br>y=%{y}<extra></extra>\",\"legendgroup\":\"Sumatera Barat\",\"line\":{\"color\":\"#19d3f3\",\"dash\":\"solid\"},\"marker\":{\"symbol\":\"circle\"},\"mode\":\"markers+lines\",\"name\":\"Sumatera Barat\",\"orientation\":\"v\",\"showlegend\":true,\"x\":[1993,1994,1995,1996,1997,1998,1999,2000,2001,2002,2003,2004,2005,2006,2007,2008,2009,2010,2011,2012,2013,2014,2015,2016,2017,2018,2019,2020],\"xaxis\":\"x\",\"y\":[1806424.0,1747543.0,1829192.0,1971180.0,1787719.0,1807622.0,1897678.0,1759059.0,1668955.0,1875834.0,1823739.0,1875188.0,1907390.0,1889489.0,1938120.0,1965634.0,2105790.0,2211248.0,2279602.0,2368390.0,2430384.0,2519020.0,2550609.0,2487929.0,2810425.0,1483076.48,1482996.01,1450839.74],\"yaxis\":\"y\",\"type\":\"scatter\"},{\"hovertemplate\":\"color=Sumatera Selatan<br>x=%{x}<br>y=%{y}<extra></extra>\",\"legendgroup\":\"Sumatera Selatan\",\"line\":{\"color\":\"#FF6692\",\"dash\":\"solid\"},\"marker\":{\"symbol\":\"circle\"},\"mode\":\"markers+lines\",\"name\":\"Sumatera Selatan\",\"orientation\":\"v\",\"showlegend\":true,\"x\":[1993,1994,1995,1996,1997,1998,1999,2000,2001,2002,2003,2004,2005,2006,2007,2008,2009,2010,2011,2012,2013,2014,2015,2016,2017,2018,2019,2020],\"xaxis\":\"x\",\"y\":[1409559.0,1347611.0,1557944.0,1666591.0,1577398.0,1931505.0,1789961.0,1863643.0,1723433.0,1899849.0,1977345.0,2260794.0,2320110.0,2456251.0,2753044.0,2971286.0,3125236.0,3272451.0,3384670.0,3295247.0,3676723.0,3670435.0,4247922.0,4881089.0,4807430.0,2994191.84,2603396.24,2696877.46],\"yaxis\":\"y\",\"type\":\"scatter\"},{\"hovertemplate\":\"color=Sumatera Utara<br>x=%{x}<br>y=%{y}<extra></extra>\",\"legendgroup\":\"Sumatera Utara\",\"line\":{\"color\":\"#B6E880\",\"dash\":\"solid\"},\"marker\":{\"symbol\":\"circle\"},\"mode\":\"markers+lines\",\"name\":\"Sumatera Utara\",\"orientation\":\"v\",\"showlegend\":true,\"x\":[1993,1994,1995,1996,1997,1998,1999,2000,2001,2002,2003,2004,2005,2006,2007,2008,2009,2010,2011,2012,2013,2014,2015,2016,2017,2018,2019,2020],\"xaxis\":\"x\",\"y\":[2918152.0,3079960.0,3134533.0,3136760.0,3212208.0,3321049.0,3451430.0,3514253.0,3291515.0,3153305.0,3403075.0,3418782.0,3447394.0,3007636.0,3265834.0,3340794.0,3527899.0,3582302.0,3607403.0,3715514.0,3727249.0,3631039.0,4044829.0,4387035.9,4669777.5,2108284.72,2078901.59,2076280.01],\"yaxis\":\"y\",\"type\":\"scatter\"}],                        {\"template\":{\"data\":{\"bar\":[{\"error_x\":{\"color\":\"#2a3f5f\"},\"error_y\":{\"color\":\"#2a3f5f\"},\"marker\":{\"line\":{\"color\":\"#E5ECF6\",\"width\":0.5},\"pattern\":{\"fillmode\":\"overlay\",\"size\":10,\"solidity\":0.2}},\"type\":\"bar\"}],\"barpolar\":[{\"marker\":{\"line\":{\"color\":\"#E5ECF6\",\"width\":0.5},\"pattern\":{\"fillmode\":\"overlay\",\"size\":10,\"solidity\":0.2}},\"type\":\"barpolar\"}],\"carpet\":[{\"aaxis\":{\"endlinecolor\":\"#2a3f5f\",\"gridcolor\":\"white\",\"linecolor\":\"white\",\"minorgridcolor\":\"white\",\"startlinecolor\":\"#2a3f5f\"},\"baxis\":{\"endlinecolor\":\"#2a3f5f\",\"gridcolor\":\"white\",\"linecolor\":\"white\",\"minorgridcolor\":\"white\",\"startlinecolor\":\"#2a3f5f\"},\"type\":\"carpet\"}],\"choropleth\":[{\"colorbar\":{\"outlinewidth\":0,\"ticks\":\"\"},\"type\":\"choropleth\"}],\"contour\":[{\"colorbar\":{\"outlinewidth\":0,\"ticks\":\"\"},\"colorscale\":[[0.0,\"#0d0887\"],[0.1111111111111111,\"#46039f\"],[0.2222222222222222,\"#7201a8\"],[0.3333333333333333,\"#9c179e\"],[0.4444444444444444,\"#bd3786\"],[0.5555555555555556,\"#d8576b\"],[0.6666666666666666,\"#ed7953\"],[0.7777777777777778,\"#fb9f3a\"],[0.8888888888888888,\"#fdca26\"],[1.0,\"#f0f921\"]],\"type\":\"contour\"}],\"contourcarpet\":[{\"colorbar\":{\"outlinewidth\":0,\"ticks\":\"\"},\"type\":\"contourcarpet\"}],\"heatmap\":[{\"colorbar\":{\"outlinewidth\":0,\"ticks\":\"\"},\"colorscale\":[[0.0,\"#0d0887\"],[0.1111111111111111,\"#46039f\"],[0.2222222222222222,\"#7201a8\"],[0.3333333333333333,\"#9c179e\"],[0.4444444444444444,\"#bd3786\"],[0.5555555555555556,\"#d8576b\"],[0.6666666666666666,\"#ed7953\"],[0.7777777777777778,\"#fb9f3a\"],[0.8888888888888888,\"#fdca26\"],[1.0,\"#f0f921\"]],\"type\":\"heatmap\"}],\"heatmapgl\":[{\"colorbar\":{\"outlinewidth\":0,\"ticks\":\"\"},\"colorscale\":[[0.0,\"#0d0887\"],[0.1111111111111111,\"#46039f\"],[0.2222222222222222,\"#7201a8\"],[0.3333333333333333,\"#9c179e\"],[0.4444444444444444,\"#bd3786\"],[0.5555555555555556,\"#d8576b\"],[0.6666666666666666,\"#ed7953\"],[0.7777777777777778,\"#fb9f3a\"],[0.8888888888888888,\"#fdca26\"],[1.0,\"#f0f921\"]],\"type\":\"heatmapgl\"}],\"histogram\":[{\"marker\":{\"pattern\":{\"fillmode\":\"overlay\",\"size\":10,\"solidity\":0.2}},\"type\":\"histogram\"}],\"histogram2d\":[{\"colorbar\":{\"outlinewidth\":0,\"ticks\":\"\"},\"colorscale\":[[0.0,\"#0d0887\"],[0.1111111111111111,\"#46039f\"],[0.2222222222222222,\"#7201a8\"],[0.3333333333333333,\"#9c179e\"],[0.4444444444444444,\"#bd3786\"],[0.5555555555555556,\"#d8576b\"],[0.6666666666666666,\"#ed7953\"],[0.7777777777777778,\"#fb9f3a\"],[0.8888888888888888,\"#fdca26\"],[1.0,\"#f0f921\"]],\"type\":\"histogram2d\"}],\"histogram2dcontour\":[{\"colorbar\":{\"outlinewidth\":0,\"ticks\":\"\"},\"colorscale\":[[0.0,\"#0d0887\"],[0.1111111111111111,\"#46039f\"],[0.2222222222222222,\"#7201a8\"],[0.3333333333333333,\"#9c179e\"],[0.4444444444444444,\"#bd3786\"],[0.5555555555555556,\"#d8576b\"],[0.6666666666666666,\"#ed7953\"],[0.7777777777777778,\"#fb9f3a\"],[0.8888888888888888,\"#fdca26\"],[1.0,\"#f0f921\"]],\"type\":\"histogram2dcontour\"}],\"mesh3d\":[{\"colorbar\":{\"outlinewidth\":0,\"ticks\":\"\"},\"type\":\"mesh3d\"}],\"parcoords\":[{\"line\":{\"colorbar\":{\"outlinewidth\":0,\"ticks\":\"\"}},\"type\":\"parcoords\"}],\"pie\":[{\"automargin\":true,\"type\":\"pie\"}],\"scatter\":[{\"marker\":{\"colorbar\":{\"outlinewidth\":0,\"ticks\":\"\"}},\"type\":\"scatter\"}],\"scatter3d\":[{\"line\":{\"colorbar\":{\"outlinewidth\":0,\"ticks\":\"\"}},\"marker\":{\"colorbar\":{\"outlinewidth\":0,\"ticks\":\"\"}},\"type\":\"scatter3d\"}],\"scattercarpet\":[{\"marker\":{\"colorbar\":{\"outlinewidth\":0,\"ticks\":\"\"}},\"type\":\"scattercarpet\"}],\"scattergeo\":[{\"marker\":{\"colorbar\":{\"outlinewidth\":0,\"ticks\":\"\"}},\"type\":\"scattergeo\"}],\"scattergl\":[{\"marker\":{\"colorbar\":{\"outlinewidth\":0,\"ticks\":\"\"}},\"type\":\"scattergl\"}],\"scattermapbox\":[{\"marker\":{\"colorbar\":{\"outlinewidth\":0,\"ticks\":\"\"}},\"type\":\"scattermapbox\"}],\"scatterpolar\":[{\"marker\":{\"colorbar\":{\"outlinewidth\":0,\"ticks\":\"\"}},\"type\":\"scatterpolar\"}],\"scatterpolargl\":[{\"marker\":{\"colorbar\":{\"outlinewidth\":0,\"ticks\":\"\"}},\"type\":\"scatterpolargl\"}],\"scatterternary\":[{\"marker\":{\"colorbar\":{\"outlinewidth\":0,\"ticks\":\"\"}},\"type\":\"scatterternary\"}],\"surface\":[{\"colorbar\":{\"outlinewidth\":0,\"ticks\":\"\"},\"colorscale\":[[0.0,\"#0d0887\"],[0.1111111111111111,\"#46039f\"],[0.2222222222222222,\"#7201a8\"],[0.3333333333333333,\"#9c179e\"],[0.4444444444444444,\"#bd3786\"],[0.5555555555555556,\"#d8576b\"],[0.6666666666666666,\"#ed7953\"],[0.7777777777777778,\"#fb9f3a\"],[0.8888888888888888,\"#fdca26\"],[1.0,\"#f0f921\"]],\"type\":\"surface\"}],\"table\":[{\"cells\":{\"fill\":{\"color\":\"#EBF0F8\"},\"line\":{\"color\":\"white\"}},\"header\":{\"fill\":{\"color\":\"#C8D4E3\"},\"line\":{\"color\":\"white\"}},\"type\":\"table\"}]},\"layout\":{\"annotationdefaults\":{\"arrowcolor\":\"#2a3f5f\",\"arrowhead\":0,\"arrowwidth\":1},\"autotypenumbers\":\"strict\",\"coloraxis\":{\"colorbar\":{\"outlinewidth\":0,\"ticks\":\"\"}},\"colorscale\":{\"diverging\":[[0,\"#8e0152\"],[0.1,\"#c51b7d\"],[0.2,\"#de77ae\"],[0.3,\"#f1b6da\"],[0.4,\"#fde0ef\"],[0.5,\"#f7f7f7\"],[0.6,\"#e6f5d0\"],[0.7,\"#b8e186\"],[0.8,\"#7fbc41\"],[0.9,\"#4d9221\"],[1,\"#276419\"]],\"sequential\":[[0.0,\"#0d0887\"],[0.1111111111111111,\"#46039f\"],[0.2222222222222222,\"#7201a8\"],[0.3333333333333333,\"#9c179e\"],[0.4444444444444444,\"#bd3786\"],[0.5555555555555556,\"#d8576b\"],[0.6666666666666666,\"#ed7953\"],[0.7777777777777778,\"#fb9f3a\"],[0.8888888888888888,\"#fdca26\"],[1.0,\"#f0f921\"]],\"sequentialminus\":[[0.0,\"#0d0887\"],[0.1111111111111111,\"#46039f\"],[0.2222222222222222,\"#7201a8\"],[0.3333333333333333,\"#9c179e\"],[0.4444444444444444,\"#bd3786\"],[0.5555555555555556,\"#d8576b\"],[0.6666666666666666,\"#ed7953\"],[0.7777777777777778,\"#fb9f3a\"],[0.8888888888888888,\"#fdca26\"],[1.0,\"#f0f921\"]]},\"colorway\":[\"#636efa\",\"#EF553B\",\"#00cc96\",\"#ab63fa\",\"#FFA15A\",\"#19d3f3\",\"#FF6692\",\"#B6E880\",\"#FF97FF\",\"#FECB52\"],\"font\":{\"color\":\"#2a3f5f\"},\"geo\":{\"bgcolor\":\"white\",\"lakecolor\":\"white\",\"landcolor\":\"#E5ECF6\",\"showlakes\":true,\"showland\":true,\"subunitcolor\":\"white\"},\"hoverlabel\":{\"align\":\"left\"},\"hovermode\":\"closest\",\"mapbox\":{\"style\":\"light\"},\"paper_bgcolor\":\"white\",\"plot_bgcolor\":\"#E5ECF6\",\"polar\":{\"angularaxis\":{\"gridcolor\":\"white\",\"linecolor\":\"white\",\"ticks\":\"\"},\"bgcolor\":\"#E5ECF6\",\"radialaxis\":{\"gridcolor\":\"white\",\"linecolor\":\"white\",\"ticks\":\"\"}},\"scene\":{\"xaxis\":{\"backgroundcolor\":\"#E5ECF6\",\"gridcolor\":\"white\",\"gridwidth\":2,\"linecolor\":\"white\",\"showbackground\":true,\"ticks\":\"\",\"zerolinecolor\":\"white\"},\"yaxis\":{\"backgroundcolor\":\"#E5ECF6\",\"gridcolor\":\"white\",\"gridwidth\":2,\"linecolor\":\"white\",\"showbackground\":true,\"ticks\":\"\",\"zerolinecolor\":\"white\"},\"zaxis\":{\"backgroundcolor\":\"#E5ECF6\",\"gridcolor\":\"white\",\"gridwidth\":2,\"linecolor\":\"white\",\"showbackground\":true,\"ticks\":\"\",\"zerolinecolor\":\"white\"}},\"shapedefaults\":{\"line\":{\"color\":\"#2a3f5f\"}},\"ternary\":{\"aaxis\":{\"gridcolor\":\"white\",\"linecolor\":\"white\",\"ticks\":\"\"},\"baxis\":{\"gridcolor\":\"white\",\"linecolor\":\"white\",\"ticks\":\"\"},\"bgcolor\":\"#E5ECF6\",\"caxis\":{\"gridcolor\":\"white\",\"linecolor\":\"white\",\"ticks\":\"\"}},\"title\":{\"x\":0.05},\"xaxis\":{\"automargin\":true,\"gridcolor\":\"white\",\"linecolor\":\"white\",\"ticks\":\"\",\"title\":{\"standoff\":15},\"zerolinecolor\":\"white\",\"zerolinewidth\":2},\"yaxis\":{\"automargin\":true,\"gridcolor\":\"white\",\"linecolor\":\"white\",\"ticks\":\"\",\"title\":{\"standoff\":15},\"zerolinecolor\":\"white\",\"zerolinewidth\":2}}},\"xaxis\":{\"anchor\":\"y\",\"domain\":[0.0,1.0],\"title\":{\"text\":\"Tahun\"}},\"yaxis\":{\"anchor\":\"x\",\"domain\":[0.0,1.0],\"title\":{\"text\":\"Jumlah Produksi\"}},\"legend\":{\"title\":{\"text\":\"color\"},\"tracegroupgap\":0},\"margin\":{\"t\":60},\"title\":{\"text\":\"Produksi Padi Dari Tahun ke Tahun Berdasarkan Provinsi\"}},                        {\"responsive\": true}                    ).then(function(){\n",
              "                            \n",
              "var gd = document.getElementById('d3091325-8b90-4c07-bee8-956918cc5139');\n",
              "var x = new MutationObserver(function (mutations, observer) {{\n",
              "        var display = window.getComputedStyle(gd).display;\n",
              "        if (!display || display === 'none') {{\n",
              "            console.log([gd, 'removed!']);\n",
              "            Plotly.purge(gd);\n",
              "            observer.disconnect();\n",
              "        }}\n",
              "}});\n",
              "\n",
              "// Listen for the removal of the full notebook cells\n",
              "var notebookContainer = gd.closest('#notebook-container');\n",
              "if (notebookContainer) {{\n",
              "    x.observe(notebookContainer, {childList: true});\n",
              "}}\n",
              "\n",
              "// Listen for the clearing of the current output cell\n",
              "var outputEl = gd.closest('.output');\n",
              "if (outputEl) {{\n",
              "    x.observe(outputEl, {childList: true});\n",
              "}}\n",
              "\n",
              "                        })                };                            </script>        </div>\n",
              "</body>\n",
              "</html>"
            ]
          },
          "metadata": {}
        }
      ]
    },
    {
      "cell_type": "markdown",
      "source": [
        "Konklusi : Hampir semua provinsi mengalami penurunan panen padi ditahun 2017"
      ],
      "metadata": {
        "id": "xttP2KPM2Oug"
      }
    },
    {
      "cell_type": "markdown",
      "source": [
        "# Simple Linear Regression"
      ],
      "metadata": {
        "id": "XZJ_vSVQ2Ouh"
      }
    },
    {
      "cell_type": "code",
      "source": [
        "df.corr()"
      ],
      "metadata": {
        "execution": {
          "iopub.status.busy": "2023-01-09T02:08:31.255676Z",
          "iopub.execute_input": "2023-01-09T02:08:31.256477Z",
          "iopub.status.idle": "2023-01-09T02:08:31.271552Z",
          "shell.execute_reply.started": "2023-01-09T02:08:31.256438Z",
          "shell.execute_reply": "2023-01-09T02:08:31.270125Z"
        },
        "trusted": true,
        "colab": {
          "base_uri": "https://localhost:8080/",
          "height": 238
        },
        "id": "x934p5HL2Ouj",
        "outputId": "9d07cd8c-9278-43e5-dd85-44dbec60c0ee"
      },
      "execution_count": 21,
      "outputs": [
        {
          "output_type": "execute_result",
          "data": {
            "text/plain": [
              "                   Tahun  Produksi  Luas Panen  Curah hujan  Kelembapan  \\\n",
              "Tahun           1.000000  0.182527   -0.045951    -0.047645   -0.033474   \n",
              "Produksi        0.182527  1.000000    0.905622    -0.042129   -0.052316   \n",
              "Luas Panen     -0.045951  0.905622    1.000000    -0.092975   -0.061121   \n",
              "Curah hujan    -0.047645 -0.042129   -0.092975     1.000000    0.056466   \n",
              "Kelembapan     -0.033474 -0.052316   -0.061121     0.056466    1.000000   \n",
              "Suhu rata-rata  0.004923  0.041160    0.115726    -0.228699   -0.407799   \n",
              "\n",
              "                Suhu rata-rata  \n",
              "Tahun                 0.004923  \n",
              "Produksi              0.041160  \n",
              "Luas Panen            0.115726  \n",
              "Curah hujan          -0.228699  \n",
              "Kelembapan           -0.407799  \n",
              "Suhu rata-rata        1.000000  "
            ],
            "text/html": [
              "\n",
              "  <div id=\"df-c38e4bf0-a8a3-498d-9f3a-783bee03e409\">\n",
              "    <div class=\"colab-df-container\">\n",
              "      <div>\n",
              "<style scoped>\n",
              "    .dataframe tbody tr th:only-of-type {\n",
              "        vertical-align: middle;\n",
              "    }\n",
              "\n",
              "    .dataframe tbody tr th {\n",
              "        vertical-align: top;\n",
              "    }\n",
              "\n",
              "    .dataframe thead th {\n",
              "        text-align: right;\n",
              "    }\n",
              "</style>\n",
              "<table border=\"1\" class=\"dataframe\">\n",
              "  <thead>\n",
              "    <tr style=\"text-align: right;\">\n",
              "      <th></th>\n",
              "      <th>Tahun</th>\n",
              "      <th>Produksi</th>\n",
              "      <th>Luas Panen</th>\n",
              "      <th>Curah hujan</th>\n",
              "      <th>Kelembapan</th>\n",
              "      <th>Suhu rata-rata</th>\n",
              "    </tr>\n",
              "  </thead>\n",
              "  <tbody>\n",
              "    <tr>\n",
              "      <th>Tahun</th>\n",
              "      <td>1.000000</td>\n",
              "      <td>0.182527</td>\n",
              "      <td>-0.045951</td>\n",
              "      <td>-0.047645</td>\n",
              "      <td>-0.033474</td>\n",
              "      <td>0.004923</td>\n",
              "    </tr>\n",
              "    <tr>\n",
              "      <th>Produksi</th>\n",
              "      <td>0.182527</td>\n",
              "      <td>1.000000</td>\n",
              "      <td>0.905622</td>\n",
              "      <td>-0.042129</td>\n",
              "      <td>-0.052316</td>\n",
              "      <td>0.041160</td>\n",
              "    </tr>\n",
              "    <tr>\n",
              "      <th>Luas Panen</th>\n",
              "      <td>-0.045951</td>\n",
              "      <td>0.905622</td>\n",
              "      <td>1.000000</td>\n",
              "      <td>-0.092975</td>\n",
              "      <td>-0.061121</td>\n",
              "      <td>0.115726</td>\n",
              "    </tr>\n",
              "    <tr>\n",
              "      <th>Curah hujan</th>\n",
              "      <td>-0.047645</td>\n",
              "      <td>-0.042129</td>\n",
              "      <td>-0.092975</td>\n",
              "      <td>1.000000</td>\n",
              "      <td>0.056466</td>\n",
              "      <td>-0.228699</td>\n",
              "    </tr>\n",
              "    <tr>\n",
              "      <th>Kelembapan</th>\n",
              "      <td>-0.033474</td>\n",
              "      <td>-0.052316</td>\n",
              "      <td>-0.061121</td>\n",
              "      <td>0.056466</td>\n",
              "      <td>1.000000</td>\n",
              "      <td>-0.407799</td>\n",
              "    </tr>\n",
              "    <tr>\n",
              "      <th>Suhu rata-rata</th>\n",
              "      <td>0.004923</td>\n",
              "      <td>0.041160</td>\n",
              "      <td>0.115726</td>\n",
              "      <td>-0.228699</td>\n",
              "      <td>-0.407799</td>\n",
              "      <td>1.000000</td>\n",
              "    </tr>\n",
              "  </tbody>\n",
              "</table>\n",
              "</div>\n",
              "      <button class=\"colab-df-convert\" onclick=\"convertToInteractive('df-c38e4bf0-a8a3-498d-9f3a-783bee03e409')\"\n",
              "              title=\"Convert this dataframe to an interactive table.\"\n",
              "              style=\"display:none;\">\n",
              "        \n",
              "  <svg xmlns=\"http://www.w3.org/2000/svg\" height=\"24px\"viewBox=\"0 0 24 24\"\n",
              "       width=\"24px\">\n",
              "    <path d=\"M0 0h24v24H0V0z\" fill=\"none\"/>\n",
              "    <path d=\"M18.56 5.44l.94 2.06.94-2.06 2.06-.94-2.06-.94-.94-2.06-.94 2.06-2.06.94zm-11 1L8.5 8.5l.94-2.06 2.06-.94-2.06-.94L8.5 2.5l-.94 2.06-2.06.94zm10 10l.94 2.06.94-2.06 2.06-.94-2.06-.94-.94-2.06-.94 2.06-2.06.94z\"/><path d=\"M17.41 7.96l-1.37-1.37c-.4-.4-.92-.59-1.43-.59-.52 0-1.04.2-1.43.59L10.3 9.45l-7.72 7.72c-.78.78-.78 2.05 0 2.83L4 21.41c.39.39.9.59 1.41.59.51 0 1.02-.2 1.41-.59l7.78-7.78 2.81-2.81c.8-.78.8-2.07 0-2.86zM5.41 20L4 18.59l7.72-7.72 1.47 1.35L5.41 20z\"/>\n",
              "  </svg>\n",
              "      </button>\n",
              "      \n",
              "  <style>\n",
              "    .colab-df-container {\n",
              "      display:flex;\n",
              "      flex-wrap:wrap;\n",
              "      gap: 12px;\n",
              "    }\n",
              "\n",
              "    .colab-df-convert {\n",
              "      background-color: #E8F0FE;\n",
              "      border: none;\n",
              "      border-radius: 50%;\n",
              "      cursor: pointer;\n",
              "      display: none;\n",
              "      fill: #1967D2;\n",
              "      height: 32px;\n",
              "      padding: 0 0 0 0;\n",
              "      width: 32px;\n",
              "    }\n",
              "\n",
              "    .colab-df-convert:hover {\n",
              "      background-color: #E2EBFA;\n",
              "      box-shadow: 0px 1px 2px rgba(60, 64, 67, 0.3), 0px 1px 3px 1px rgba(60, 64, 67, 0.15);\n",
              "      fill: #174EA6;\n",
              "    }\n",
              "\n",
              "    [theme=dark] .colab-df-convert {\n",
              "      background-color: #3B4455;\n",
              "      fill: #D2E3FC;\n",
              "    }\n",
              "\n",
              "    [theme=dark] .colab-df-convert:hover {\n",
              "      background-color: #434B5C;\n",
              "      box-shadow: 0px 1px 3px 1px rgba(0, 0, 0, 0.15);\n",
              "      filter: drop-shadow(0px 1px 2px rgba(0, 0, 0, 0.3));\n",
              "      fill: #FFFFFF;\n",
              "    }\n",
              "  </style>\n",
              "\n",
              "      <script>\n",
              "        const buttonEl =\n",
              "          document.querySelector('#df-c38e4bf0-a8a3-498d-9f3a-783bee03e409 button.colab-df-convert');\n",
              "        buttonEl.style.display =\n",
              "          google.colab.kernel.accessAllowed ? 'block' : 'none';\n",
              "\n",
              "        async function convertToInteractive(key) {\n",
              "          const element = document.querySelector('#df-c38e4bf0-a8a3-498d-9f3a-783bee03e409');\n",
              "          const dataTable =\n",
              "            await google.colab.kernel.invokeFunction('convertToInteractive',\n",
              "                                                     [key], {});\n",
              "          if (!dataTable) return;\n",
              "\n",
              "          const docLinkHtml = 'Like what you see? Visit the ' +\n",
              "            '<a target=\"_blank\" href=https://colab.research.google.com/notebooks/data_table.ipynb>data table notebook</a>'\n",
              "            + ' to learn more about interactive tables.';\n",
              "          element.innerHTML = '';\n",
              "          dataTable['output_type'] = 'display_data';\n",
              "          await google.colab.output.renderOutput(dataTable, element);\n",
              "          const docLink = document.createElement('div');\n",
              "          docLink.innerHTML = docLinkHtml;\n",
              "          element.appendChild(docLink);\n",
              "        }\n",
              "      </script>\n",
              "    </div>\n",
              "  </div>\n",
              "  "
            ]
          },
          "metadata": {},
          "execution_count": 21
        }
      ]
    },
    {
      "cell_type": "code",
      "source": [
        "#Luas Panen memiliki korelasi kuat dengan hasil produksi\n",
        "from sklearn.linear_model import LinearRegression\n",
        "from sklearn.metrics import r2_score\n",
        "\n",
        "#objek model\n",
        "linreg = LinearRegression()\n",
        "\n",
        "#Menentukan variable feature dan target\n",
        "X = np.array(df['Luas Panen']).reshape(-1,1)\n",
        "y = np.array(df['Produksi'])\n",
        "\n",
        "#fitting \n",
        "linreg.fit(X,y)\n",
        "\n",
        "#predict\n",
        "lr_pred = linreg.predict(X)\n",
        "\n",
        "#r2_score \n",
        "print('Test Score (R2 Score):',round(r2_score(y,lr_pred), 4))"
      ],
      "metadata": {
        "execution": {
          "iopub.status.busy": "2023-01-09T02:08:31.599716Z",
          "iopub.execute_input": "2023-01-09T02:08:31.600137Z",
          "iopub.status.idle": "2023-01-09T02:08:31.685308Z",
          "shell.execute_reply.started": "2023-01-09T02:08:31.600105Z",
          "shell.execute_reply": "2023-01-09T02:08:31.683861Z"
        },
        "trusted": true,
        "colab": {
          "base_uri": "https://localhost:8080/"
        },
        "id": "k9JQsgeP2Oum",
        "outputId": "0598d70a-e77a-4312-df9f-af0b34888878"
      },
      "execution_count": 22,
      "outputs": [
        {
          "output_type": "stream",
          "name": "stdout",
          "text": [
            "Test Score (R2 Score): 0.8202\n"
          ]
        }
      ]
    },
    {
      "cell_type": "code",
      "source": [
        "#visualisasi hasil model \n",
        "plt.figure(figsize=(15,10))\n",
        "\n",
        "X_vis = np.linspace(0,900000,1000).reshape(-1,1)\n",
        "y_vis = linreg.predict(X_vis)\n",
        "plt.scatter(X, y)\n",
        "plt.plot(X_vis, y_vis, '--r')\n",
        "\n",
        "plt.show()"
      ],
      "metadata": {
        "execution": {
          "iopub.status.busy": "2023-01-09T02:08:34.881025Z",
          "iopub.execute_input": "2023-01-09T02:08:34.881474Z",
          "iopub.status.idle": "2023-01-09T02:08:35.146748Z",
          "shell.execute_reply.started": "2023-01-09T02:08:34.881439Z",
          "shell.execute_reply": "2023-01-09T02:08:35.145077Z"
        },
        "trusted": true,
        "colab": {
          "base_uri": "https://localhost:8080/",
          "height": 602
        },
        "id": "0xyrIxMl2Ouo",
        "outputId": "61ba4545-2a6b-44cc-fd9f-fb5d56623ee1"
      },
      "execution_count": 23,
      "outputs": [
        {
          "output_type": "display_data",
          "data": {
            "text/plain": [
              "<Figure size 1080x720 with 1 Axes>"
            ],
            "image/png": "[encoded data removed]"
          },
          "metadata": {
            "needs_background": "light"
          }
        }
      ]
    },
    {
      "cell_type": "markdown",
      "source": [
        "# Multiple Linear Regression"
      ],
      "metadata": {
        "id": "KbGzlF7d2Oup"
      }
    },
    {
      "cell_type": "code",
      "source": [
        "df_copy = df.copy()"
      ],
      "metadata": {
        "execution": {
          "iopub.status.busy": "2023-01-09T02:08:38.406787Z",
          "iopub.execute_input": "2023-01-09T02:08:38.407248Z",
          "iopub.status.idle": "2023-01-09T02:08:38.413293Z",
          "shell.execute_reply.started": "2023-01-09T02:08:38.407214Z",
          "shell.execute_reply": "2023-01-09T02:08:38.411731Z"
        },
        "trusted": true,
        "id": "5UJEbPnm2Oup"
      },
      "execution_count": 24,
      "outputs": []
    },
    {
      "cell_type": "code",
      "source": [
        "#label encode for categorical\n",
        "from sklearn.preprocessing import LabelEncoder\n",
        "le = LabelEncoder()\n",
        "for col in df_copy.columns:\n",
        "    if df_copy[col].dtype == 'object':\n",
        "        df_copy[col] = le.fit_transform(df_copy[col])"
      ],
      "metadata": {
        "execution": {
          "iopub.status.busy": "2023-01-09T02:08:39.058323Z",
          "iopub.execute_input": "2023-01-09T02:08:39.058926Z",
          "iopub.status.idle": "2023-01-09T02:08:39.066288Z",
          "shell.execute_reply.started": "2023-01-09T02:08:39.058891Z",
          "shell.execute_reply": "2023-01-09T02:08:39.064929Z"
        },
        "trusted": true,
        "id": "wuI6Ka9P2Ouq"
      },
      "execution_count": 25,
      "outputs": []
    },
    {
      "cell_type": "code",
      "source": [
        "#Splitting train and test\n",
        "from sklearn.model_selection import train_test_split\n",
        "\n",
        "#Varible target dan feature\n",
        "X_copy = df_copy.drop(['Produksi'], axis = 1)\n",
        "y_copy = df_copy[['Produksi']]  \n",
        "\n",
        "#splitting train and test\n",
        "X_train, X_test, y_train, y_test = train_test_split(X_copy[['Luas Panen']], y_copy, test_size=0.25)\n",
        "\n",
        "#objek model\n",
        "model = LinearRegression()\n",
        "\n",
        "#fitting\n",
        "model.fit(X_train, y_train)\n",
        "y_pred = model.predict(X_test)\n",
        "\n",
        "print(f'r2 score {r2_score(y_test, y_pred)}')"
      ],
      "metadata": {
        "execution": {
          "iopub.status.busy": "2023-01-09T02:08:43.290614Z",
          "iopub.execute_input": "2023-01-09T02:08:43.291424Z",
          "iopub.status.idle": "2023-01-09T02:08:43.310546Z",
          "shell.execute_reply.started": "2023-01-09T02:08:43.291383Z",
          "shell.execute_reply": "2023-01-09T02:08:43.309034Z"
        },
        "trusted": true,
        "colab": {
          "base_uri": "https://localhost:8080/"
        },
        "id": "GTPSJ6py2Our",
        "outputId": "bc4314f7-f1cb-4230-f50d-dd7c9b6eeaec"
      },
      "execution_count": 29,
      "outputs": [
        {
          "output_type": "stream",
          "name": "stdout",
          "text": [
            "r2 score 0.8192898590534803\n"
          ]
        }
      ]
    },
    {
      "cell_type": "code",
      "source": [
        "plt.figure(figsize=(20,14))\n",
        "\n",
        "plt.scatter(X_train, y_train, c='cyan')\n",
        "\n",
        "# Linear\n",
        "model = LinearRegression()\n",
        "model.fit(X_train, y_train)\n",
        "X_vis = np.linspace(0,900000,1000).reshape(-1,1)\n",
        "y_vis = model.predict(X_vis)\n",
        "plt.plot(X_vis, y_vis, '--g', label = 'linear')\n",
        "\n",
        "# 2 degree\n",
        "quad_feature = PolynomialFeatures(degree = 2)\n",
        "X_train_quad = quad_feature.fit_transform(X_train)\n",
        "model.fit(X_train_quad, y_train)\n",
        "X_vis_quad = quad_feature.transform(X_vis)\n",
        "y_vis = model.predict(X_vis_quad)\n",
        "plt.plot(X_vis, y_vis, '--r', label = 'quadratic')\n",
        "\n",
        "# 3 degree\n",
        "# cubic_feature = PolynomialFeatures(degree = 3)\n",
        "# X_train_cubic = cubic_feature.fit_transform(X_train)\n",
        "# model.fit(X_train_cubic, y_train)\n",
        "# X_vis_cubic = cubic_feature.transform(X_vis)\n",
        "# y_vis = model.predict(X_vis_cubic)\n",
        "# plt.plot(X_vis, y_vis, '--b', label = 'cubic')\n",
        "\n",
        "plt.title('visualisasi regresi')\n",
        "plt.legend()\n",
        "plt.xlabel('Luas Panen')\n",
        "plt.ylabel('Jumlah Produksi')\n",
        "plt.legend()\n",
        "plt.grid(True)\n",
        "plt.show()"
      ],
      "metadata": {
        "colab": {
          "base_uri": "https://localhost:8080/",
          "height": 839
        },
        "id": "TjEozSeKZL8b",
        "outputId": "26988cf7-c239-4134-9675-ab52ba00c6a5"
      },
      "execution_count": 31,
      "outputs": [
        {
          "output_type": "display_data",
          "data": {
            "text/plain": [
              "<Figure size 1440x1008 with 1 Axes>"
            ],
            "image/png": "[encoded data removed]"
          },
          "metadata": {
            "needs_background": "light"
          }
        }
      ]
    },
    {
      "cell_type": "markdown",
      "source": [
        "# Polynomial Feature"
      ],
      "metadata": {
        "id": "83CQV3lY2Ous"
      }
    },
    {
      "cell_type": "code",
      "source": [
        "from sklearn.preprocessing import PolynomialFeatures\n",
        "from sklearn.model_selection import train_test_split\n",
        "\n",
        "#Varible target dan feature\n",
        "X_copy = df_copy.drop(['Produksi'], axis = 1)\n",
        "y_copy = df_copy[['Produksi']]  \n",
        "\n",
        "#splitting train and test\n",
        "X_train, X_test, y_train, y_test = train_test_split(X_copy[['Luas Panen']], y_copy, test_size=0.25)\n",
        "\n",
        "X_train_poly = X_train\n",
        "X_test_poly = X_test\n",
        "\n",
        "# Transformasi data\n",
        "quad_feature = PolynomialFeatures(degree = 2)\n",
        "X_train_quad = quad_feature.fit_transform(X_train_poly)\n",
        "X_test_quad = quad_feature.fit_transform(X_test_poly)\n",
        "\n",
        "#Objek Model\n",
        "model_poly = LinearRegression()\n",
        "model_poly.fit(X_train_quad, y_train)\n",
        "\n",
        "#predict\n",
        "y_pred_train_poly = model_poly.predict(X_train_quad)\n",
        "y_pred_test_poly = model_poly.predict(X_test_quad)\n",
        "\n",
        "print(f'r2 score {r2_score(y_test, y_pred_test_poly)}')"
      ],
      "metadata": {
        "execution": {
          "iopub.status.busy": "2023-01-09T02:08:51.165189Z",
          "iopub.execute_input": "2023-01-09T02:08:51.16559Z",
          "iopub.status.idle": "2023-01-09T02:08:51.187551Z",
          "shell.execute_reply.started": "2023-01-09T02:08:51.165558Z",
          "shell.execute_reply": "2023-01-09T02:08:51.18639Z"
        },
        "trusted": true,
        "colab": {
          "base_uri": "https://localhost:8080/"
        },
        "id": "XtMqzr2G2Ous",
        "outputId": "a830bb7b-5089-48e6-feeb-4805994a89a1"
      },
      "execution_count": 27,
      "outputs": [
        {
          "output_type": "stream",
          "name": "stdout",
          "text": [
            "r2 score 0.8036837719776937\n"
          ]
        }
      ]
    },
    {
      "cell_type": "code",
      "source": [
        "plt.figure(figsize=(20,14))\n",
        "\n",
        "plt.scatter(X_train, y_train, c='magenta')\n",
        "\n",
        "# Linear\n",
        "model = LinearRegression()\n",
        "model.fit(X_train, y_train)\n",
        "X_vis = np.linspace(0,900000,1000).reshape(-1,1)\n",
        "y_vis = model.predict(X_vis)\n",
        "plt.plot(X_vis, y_vis, '--g', label = 'linear')\n",
        "\n",
        "# 2 degree\n",
        "quad_feature = PolynomialFeatures(degree = 2)\n",
        "X_train_quad = quad_feature.fit_transform(X_train)\n",
        "model.fit(X_train_quad, y_train)\n",
        "X_vis_quad = quad_feature.transform(X_vis)\n",
        "y_vis = model.predict(X_vis_quad)\n",
        "plt.plot(X_vis, y_vis, '--r', label = 'quadratic')\n",
        "\n",
        "# 3 degree\n",
        "# cubic_feature = PolynomialFeatures(degree = 3)\n",
        "# X_train_cubic = cubic_feature.fit_transform(X_train)\n",
        "# model.fit(X_train_cubic, y_train)\n",
        "# X_vis_cubic = cubic_feature.transform(X_vis)\n",
        "# y_vis = model.predict(X_vis_cubic)\n",
        "# plt.plot(X_vis, y_vis, '--b', label = 'cubic')\n",
        "\n",
        "plt.title('visualisasi regresi')\n",
        "plt.legend()\n",
        "plt.xlabel('Luas Panen')\n",
        "plt.ylabel('Jumlah Produksi')\n",
        "plt.legend()\n",
        "plt.grid(True)\n",
        "plt.show()"
      ],
      "metadata": {
        "execution": {
          "iopub.status.busy": "2023-01-09T02:09:57.288175Z",
          "iopub.execute_input": "2023-01-09T02:09:57.288702Z",
          "iopub.status.idle": "2023-01-09T02:09:57.654689Z",
          "shell.execute_reply.started": "2023-01-09T02:09:57.288664Z",
          "shell.execute_reply": "2023-01-09T02:09:57.652836Z"
        },
        "trusted": true,
        "colab": {
          "base_uri": "https://localhost:8080/",
          "height": 839
        },
        "id": "0zJ3CPDV2Out",
        "outputId": "9a61f5b9-98a7-40f8-dbd5-349a79e16c17"
      },
      "execution_count": 28,
      "outputs": [
        {
          "output_type": "display_data",
          "data": {
            "text/plain": [
              "<Figure size 1440x1008 with 1 Axes>"
            ],
            "image/png": "[encoded data removed]"
          },
          "metadata": {
            "needs_background": "light"
          }
        }
      ]
    },
    {
      "cell_type": "code",
      "source": [],
      "metadata": {
        "id": "zRUkui-V2Ouu"
      },
      "execution_count": 28,
      "outputs": []
    }
  ]
}